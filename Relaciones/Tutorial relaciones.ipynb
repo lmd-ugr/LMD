{
 "cells": [
  {
   "cell_type": "markdown",
   "metadata": {},
   "source": [
    "# La clase `relacion`\n",
    "\n",
    "Para utilizar la clase, primero importamos el fichero que la contiene"
   ]
  },
  {
   "cell_type": "code",
   "execution_count": 1,
   "metadata": {
    "collapsed": false
   },
   "outputs": [],
   "source": [
    "from relaciones import *"
   ]
  },
  {
   "cell_type": "markdown",
   "metadata": {},
   "source": [
    "Para definir una relación, podemos o bien dar un conjunto de parejas, o bien un conjunto de parejas y el universo donde están los elementos de los pares. En caso de no proporcionar el universo, se tomará como universo el conjunto de todos los valores que aparecen en las parejas."
   ]
  },
  {
   "cell_type": "markdown",
   "metadata": {},
   "source": [
    "Por ejemplo, definamos en el conjunto $\\{0,1,\\ldots,11\\}$ la relación de ser congruentes módulo 5"
   ]
  },
  {
   "cell_type": "code",
   "execution_count": 2,
   "metadata": {
    "collapsed": true
   },
   "outputs": [],
   "source": [
    "u =set(range(12))\n",
    "rl = set((a,b) for a in u for b in u if (a-b)%5 ==0)"
   ]
  },
  {
   "cell_type": "code",
   "execution_count": 3,
   "metadata": {
    "collapsed": false
   },
   "outputs": [],
   "source": [
    "r =relacion(rl,u)"
   ]
  },
  {
   "cell_type": "markdown",
   "metadata": {},
   "source": [
    "Sabemos que esta relación es de equivalencia"
   ]
  },
  {
   "cell_type": "code",
   "execution_count": 4,
   "metadata": {
    "collapsed": false
   },
   "outputs": [
    {
     "data": {
      "text/plain": [
       "True"
      ]
     },
     "execution_count": 4,
     "metadata": {},
     "output_type": "execute_result"
    }
   ],
   "source": [
    "r.es_equivalencia()"
   ]
  },
  {
   "cell_type": "markdown",
   "metadata": {},
   "source": [
    "Y podemos calcular sus clases de equivalencia (hemos congelado las clases para poder crear un conjunto de conjuntos)"
   ]
  },
  {
   "cell_type": "code",
   "execution_count": 5,
   "metadata": {
    "collapsed": false
   },
   "outputs": [
    {
     "data": {
      "text/plain": [
       "{frozenset({1, 6, 11}),\n",
       " frozenset({4, 9}),\n",
       " frozenset({3, 8}),\n",
       " frozenset({2, 7}),\n",
       " frozenset({0, 5, 10})}"
      ]
     },
     "execution_count": 5,
     "metadata": {},
     "output_type": "execute_result"
    }
   ],
   "source": [
    "r.clases_equivalencia()"
   ]
  },
  {
   "cell_type": "markdown",
   "metadata": {},
   "source": [
    "El universo es un atributo de la clase, y se puede acceder a él de la siguiente forma"
   ]
  },
  {
   "cell_type": "code",
   "execution_count": 6,
   "metadata": {
    "collapsed": false
   },
   "outputs": [
    {
     "data": {
      "text/plain": [
       "{0, 1, 2, 3, 4, 5, 6, 7, 8, 9, 10, 11}"
      ]
     },
     "execution_count": 6,
     "metadata": {},
     "output_type": "execute_result"
    }
   ],
   "source": [
    "r.universo"
   ]
  },
  {
   "cell_type": "markdown",
   "metadata": {},
   "source": [
    "También podemos determinar si dos elementos están relacionados, bien usando el método `rel` o llamando a la relación con los dos elementos"
   ]
  },
  {
   "cell_type": "code",
   "execution_count": 7,
   "metadata": {
    "collapsed": false
   },
   "outputs": [
    {
     "data": {
      "text/plain": [
       "True"
      ]
     },
     "execution_count": 7,
     "metadata": {},
     "output_type": "execute_result"
    }
   ],
   "source": [
    "r.rel(1,1)"
   ]
  },
  {
   "cell_type": "code",
   "execution_count": 8,
   "metadata": {
    "collapsed": false
   },
   "outputs": [
    {
     "data": {
      "text/plain": [
       "True"
      ]
     },
     "execution_count": 8,
     "metadata": {},
     "output_type": "execute_result"
    }
   ],
   "source": [
    "r(1,6)"
   ]
  },
  {
   "cell_type": "code",
   "execution_count": 9,
   "metadata": {
    "collapsed": false
   },
   "outputs": [
    {
     "data": {
      "text/plain": [
       "True"
      ]
     },
     "execution_count": 9,
     "metadata": {},
     "output_type": "execute_result"
    }
   ],
   "source": [
    "(1,1) in r.rels"
   ]
  },
  {
   "cell_type": "markdown",
   "metadata": {},
   "source": [
    "Si dibujamos las relaciones entre los elementos, aparecerán claramente las clases de equivalencia"
   ]
  },
  {
   "cell_type": "code",
   "execution_count": 10,
   "metadata": {
    "collapsed": false,
    "scrolled": true
   },
   "outputs": [
    {
     "data": {
      "image/svg+xml": [
       "<svg height=\"188pt\" viewBox=\"0.00 0.00 565.00 188.00\" width=\"565pt\" xmlns=\"http://www.w3.org/2000/svg\" xmlns:xlink=\"http://www.w3.org/1999/xlink\">\n",
       "<g class=\"graph\" id=\"graph0\" transform=\"scale(1 1) rotate(0) translate(4 184)\">\n",
       "<title>%3</title>\n",
       "<polygon fill=\"white\" points=\"-4,4 -4,-184 561,-184 561,4 -4,4\" stroke=\"none\"/>\n",
       "<!-- 0 -->\n",
       "<g class=\"node\" id=\"node1\"><title>0</title>\n",
       "<ellipse cx=\"55\" cy=\"-162\" fill=\"none\" rx=\"27\" ry=\"18\" stroke=\"black\"/>\n",
       "<text font-family=\"Times,serif\" font-size=\"14.00\" text-anchor=\"middle\" x=\"55\" y=\"-158.3\">0</text>\n",
       "</g>\n",
       "<!-- 0&#45;&gt;0 -->\n",
       "<g class=\"edge\" id=\"edge18\"><title>0-&gt;0</title>\n",
       "<path d=\"M74.895,-174.432C87.688,-177.675 100,-173.531 100,-162 100,-153.622 93.5006,-149.143 85.0395,-148.564\" fill=\"none\" stroke=\"black\"/>\n",
       "<polygon fill=\"black\" points=\"84.5019,-145.1 74.895,-149.568 85.191,-152.066 84.5019,-145.1\" stroke=\"black\"/>\n",
       "</g>\n",
       "<!-- 5 -->\n",
       "<g class=\"node\" id=\"node6\"><title>5</title>\n",
       "<ellipse cx=\"27\" cy=\"-90\" fill=\"none\" rx=\"27\" ry=\"18\" stroke=\"black\"/>\n",
       "<text font-family=\"Times,serif\" font-size=\"14.00\" text-anchor=\"middle\" x=\"27\" y=\"-86.3\">5</text>\n",
       "</g>\n",
       "<!-- 0&#45;&gt;5 -->\n",
       "<g class=\"edge\" id=\"edge20\"><title>0-&gt;5</title>\n",
       "<path d=\"M43.0659,-145.465C38.8939,-137.419 34.5794,-127.361 31.2402,-118.086\" fill=\"none\" stroke=\"black\"/>\n",
       "<polygon fill=\"black\" points=\"34.519,-116.853 28.0525,-108.461 27.8739,-119.054 34.519,-116.853\" stroke=\"black\"/>\n",
       "</g>\n",
       "<!-- 10 -->\n",
       "<g class=\"node\" id=\"node11\"><title>10</title>\n",
       "<ellipse cx=\"85\" cy=\"-18\" fill=\"none\" rx=\"27\" ry=\"18\" stroke=\"black\"/>\n",
       "<text font-family=\"Times,serif\" font-size=\"14.00\" text-anchor=\"middle\" x=\"85\" y=\"-14.3\">10</text>\n",
       "</g>\n",
       "<!-- 0&#45;&gt;10 -->\n",
       "<g class=\"edge\" id=\"edge5\"><title>0-&gt;10</title>\n",
       "<path d=\"M57.6861,-144.032C62.2481,-133.959 68.7481,-120.709 72,-108 77.2316,-87.5535 78.0225,-63.618 78.9833,-45.7219\" fill=\"none\" stroke=\"black\"/>\n",
       "<polygon fill=\"black\" points=\"82.4788,-45.9032 79.6239,-35.7003 75.493,-45.4566 82.4788,-45.9032\" stroke=\"black\"/>\n",
       "</g>\n",
       "<!-- 1 -->\n",
       "<g class=\"node\" id=\"node2\"><title>1</title>\n",
       "<ellipse cx=\"214\" cy=\"-162\" fill=\"none\" rx=\"27\" ry=\"18\" stroke=\"black\"/>\n",
       "<text font-family=\"Times,serif\" font-size=\"14.00\" text-anchor=\"middle\" x=\"214\" y=\"-158.3\">1</text>\n",
       "</g>\n",
       "<!-- 1&#45;&gt;1 -->\n",
       "<g class=\"edge\" id=\"edge17\"><title>1-&gt;1</title>\n",
       "<path d=\"M233.895,-174.432C246.688,-177.675 259,-173.531 259,-162 259,-153.622 252.501,-149.143 244.039,-148.564\" fill=\"none\" stroke=\"black\"/>\n",
       "<polygon fill=\"black\" points=\"243.502,-145.1 233.895,-149.568 244.191,-152.066 243.502,-145.1\" stroke=\"black\"/>\n",
       "</g>\n",
       "<!-- 6 -->\n",
       "<g class=\"node\" id=\"node7\"><title>6</title>\n",
       "<ellipse cx=\"186\" cy=\"-90\" fill=\"none\" rx=\"27\" ry=\"18\" stroke=\"black\"/>\n",
       "<text font-family=\"Times,serif\" font-size=\"14.00\" text-anchor=\"middle\" x=\"186\" y=\"-86.3\">6</text>\n",
       "</g>\n",
       "<!-- 1&#45;&gt;6 -->\n",
       "<g class=\"edge\" id=\"edge4\"><title>1-&gt;6</title>\n",
       "<path d=\"M202.066,-145.465C197.894,-137.419 193.579,-127.361 190.24,-118.086\" fill=\"none\" stroke=\"black\"/>\n",
       "<polygon fill=\"black\" points=\"193.519,-116.853 187.052,-108.461 186.874,-119.054 193.519,-116.853\" stroke=\"black\"/>\n",
       "</g>\n",
       "<!-- 11 -->\n",
       "<g class=\"node\" id=\"node12\"><title>11</title>\n",
       "<ellipse cx=\"209\" cy=\"-18\" fill=\"none\" rx=\"27\" ry=\"18\" stroke=\"black\"/>\n",
       "<text font-family=\"Times,serif\" font-size=\"14.00\" text-anchor=\"middle\" x=\"209\" y=\"-14.3\">11</text>\n",
       "</g>\n",
       "<!-- 1&#45;&gt;11 -->\n",
       "<g class=\"edge\" id=\"edge7\"><title>1-&gt;11</title>\n",
       "<path d=\"M216.901,-144.084C221.534,-134.029 228.034,-120.779 231,-108 234.617,-92.4142 235.185,-87.4431 231,-72 228.448,-62.581 223.756,-53.1208 219.194,-44.8535\" fill=\"none\" stroke=\"black\"/>\n",
       "<polygon fill=\"black\" points=\"222.2,-43.0594 214.219,-36.092 216.113,-46.5161 222.2,-43.0594\" stroke=\"black\"/>\n",
       "</g>\n",
       "<!-- 2 -->\n",
       "<g class=\"node\" id=\"node3\"><title>2</title>\n",
       "<ellipse cx=\"332\" cy=\"-162\" fill=\"none\" rx=\"27\" ry=\"18\" stroke=\"black\"/>\n",
       "<text font-family=\"Times,serif\" font-size=\"14.00\" text-anchor=\"middle\" x=\"332\" y=\"-158.3\">2</text>\n",
       "</g>\n",
       "<!-- 2&#45;&gt;2 -->\n",
       "<g class=\"edge\" id=\"edge15\"><title>2-&gt;2</title>\n",
       "<path d=\"M351.895,-174.432C364.688,-177.675 377,-173.531 377,-162 377,-153.622 370.501,-149.143 362.039,-148.564\" fill=\"none\" stroke=\"black\"/>\n",
       "<polygon fill=\"black\" points=\"361.502,-145.1 351.895,-149.568 362.191,-152.066 361.502,-145.1\" stroke=\"black\"/>\n",
       "</g>\n",
       "<!-- 7 -->\n",
       "<g class=\"node\" id=\"node8\"><title>7</title>\n",
       "<ellipse cx=\"332\" cy=\"-90\" fill=\"none\" rx=\"27\" ry=\"18\" stroke=\"black\"/>\n",
       "<text font-family=\"Times,serif\" font-size=\"14.00\" text-anchor=\"middle\" x=\"332\" y=\"-86.3\">7</text>\n",
       "</g>\n",
       "<!-- 2&#45;&gt;7 -->\n",
       "<g class=\"edge\" id=\"edge21\"><title>2-&gt;7</title>\n",
       "<path d=\"M326.16,-144.411C325.297,-136.507 325.048,-126.852 325.412,-117.935\" fill=\"none\" stroke=\"black\"/>\n",
       "<polygon fill=\"black\" points=\"328.903,-118.179 326.121,-107.956 321.921,-117.683 328.903,-118.179\" stroke=\"black\"/>\n",
       "</g>\n",
       "<!-- 3 -->\n",
       "<g class=\"node\" id=\"node4\"><title>3</title>\n",
       "<ellipse cx=\"422\" cy=\"-162\" fill=\"none\" rx=\"27\" ry=\"18\" stroke=\"black\"/>\n",
       "<text font-family=\"Times,serif\" font-size=\"14.00\" text-anchor=\"middle\" x=\"422\" y=\"-158.3\">3</text>\n",
       "</g>\n",
       "<!-- 3&#45;&gt;3 -->\n",
       "<g class=\"edge\" id=\"edge10\"><title>3-&gt;3</title>\n",
       "<path d=\"M441.895,-174.432C454.688,-177.675 467,-173.531 467,-162 467,-153.622 460.501,-149.143 452.039,-148.564\" fill=\"none\" stroke=\"black\"/>\n",
       "<polygon fill=\"black\" points=\"451.502,-145.1 441.895,-149.568 452.191,-152.066 451.502,-145.1\" stroke=\"black\"/>\n",
       "</g>\n",
       "<!-- 8 -->\n",
       "<g class=\"node\" id=\"node9\"><title>8</title>\n",
       "<ellipse cx=\"422\" cy=\"-90\" fill=\"none\" rx=\"27\" ry=\"18\" stroke=\"black\"/>\n",
       "<text font-family=\"Times,serif\" font-size=\"14.00\" text-anchor=\"middle\" x=\"422\" y=\"-86.3\">8</text>\n",
       "</g>\n",
       "<!-- 3&#45;&gt;8 -->\n",
       "<g class=\"edge\" id=\"edge28\"><title>3-&gt;8</title>\n",
       "<path d=\"M416.16,-144.411C415.297,-136.507 415.048,-126.852 415.412,-117.935\" fill=\"none\" stroke=\"black\"/>\n",
       "<polygon fill=\"black\" points=\"418.903,-118.179 416.121,-107.956 411.921,-117.683 418.903,-118.179\" stroke=\"black\"/>\n",
       "</g>\n",
       "<!-- 4 -->\n",
       "<g class=\"node\" id=\"node5\"><title>4</title>\n",
       "<ellipse cx=\"512\" cy=\"-162\" fill=\"none\" rx=\"27\" ry=\"18\" stroke=\"black\"/>\n",
       "<text font-family=\"Times,serif\" font-size=\"14.00\" text-anchor=\"middle\" x=\"512\" y=\"-158.3\">4</text>\n",
       "</g>\n",
       "<!-- 4&#45;&gt;4 -->\n",
       "<g class=\"edge\" id=\"edge12\"><title>4-&gt;4</title>\n",
       "<path d=\"M531.895,-174.432C544.688,-177.675 557,-173.531 557,-162 557,-153.622 550.501,-149.143 542.039,-148.564\" fill=\"none\" stroke=\"black\"/>\n",
       "<polygon fill=\"black\" points=\"541.502,-145.1 531.895,-149.568 542.191,-152.066 541.502,-145.1\" stroke=\"black\"/>\n",
       "</g>\n",
       "<!-- 9 -->\n",
       "<g class=\"node\" id=\"node10\"><title>9</title>\n",
       "<ellipse cx=\"512\" cy=\"-90\" fill=\"none\" rx=\"27\" ry=\"18\" stroke=\"black\"/>\n",
       "<text font-family=\"Times,serif\" font-size=\"14.00\" text-anchor=\"middle\" x=\"512\" y=\"-86.3\">9</text>\n",
       "</g>\n",
       "<!-- 4&#45;&gt;9 -->\n",
       "<g class=\"edge\" id=\"edge9\"><title>4-&gt;9</title>\n",
       "<path d=\"M506.16,-144.411C505.297,-136.507 505.048,-126.852 505.412,-117.935\" fill=\"none\" stroke=\"black\"/>\n",
       "<polygon fill=\"black\" points=\"508.903,-118.179 506.121,-107.956 501.921,-117.683 508.903,-118.179\" stroke=\"black\"/>\n",
       "</g>\n",
       "<!-- 5&#45;&gt;0 -->\n",
       "<g class=\"edge\" id=\"edge14\"><title>5-&gt;0</title>\n",
       "<path d=\"M39.0046,-106.671C43.1801,-114.743 47.4921,-124.814 50.821,-134.084\" fill=\"none\" stroke=\"black\"/>\n",
       "<polygon fill=\"black\" points=\"47.5358,-135.298 53.9944,-143.697 54.183,-133.103 47.5358,-135.298\" stroke=\"black\"/>\n",
       "</g>\n",
       "<!-- 5&#45;&gt;5 -->\n",
       "<g class=\"edge\" id=\"edge11\"><title>5-&gt;5</title>\n",
       "<path d=\"M46.895,-102.432C59.688,-105.675 72,-101.531 72,-90 72,-81.6218 65.5006,-77.1433 57.0395,-76.5644\" fill=\"none\" stroke=\"black\"/>\n",
       "<polygon fill=\"black\" points=\"56.5019,-73.1004 46.895,-77.5679 57.191,-80.0665 56.5019,-73.1004\" stroke=\"black\"/>\n",
       "</g>\n",
       "<!-- 5&#45;&gt;10 -->\n",
       "<g class=\"edge\" id=\"edge24\"><title>5-&gt;10</title>\n",
       "<path d=\"M34.9053,-72.411C41.8588,-62.7458 51.8989,-50.462 61.2535,-40.1121\" fill=\"none\" stroke=\"black\"/>\n",
       "<polygon fill=\"black\" points=\"63.9515,-42.3508 68.2109,-32.6499 58.8316,-37.5773 63.9515,-42.3508\" stroke=\"black\"/>\n",
       "</g>\n",
       "<!-- 6&#45;&gt;1 -->\n",
       "<g class=\"edge\" id=\"edge26\"><title>6-&gt;1</title>\n",
       "<path d=\"M198.005,-106.671C202.18,-114.743 206.492,-124.814 209.821,-134.084\" fill=\"none\" stroke=\"black\"/>\n",
       "<polygon fill=\"black\" points=\"206.536,-135.298 212.994,-143.697 213.183,-133.103 206.536,-135.298\" stroke=\"black\"/>\n",
       "</g>\n",
       "<!-- 6&#45;&gt;6 -->\n",
       "<g class=\"edge\" id=\"edge2\"><title>6-&gt;6</title>\n",
       "<path d=\"M205.895,-102.432C218.688,-105.675 231,-101.531 231,-90 231,-81.6218 224.501,-77.1433 216.039,-76.5644\" fill=\"none\" stroke=\"black\"/>\n",
       "<polygon fill=\"black\" points=\"215.502,-73.1004 205.895,-77.5679 216.191,-80.0665 215.502,-73.1004\" stroke=\"black\"/>\n",
       "</g>\n",
       "<!-- 6&#45;&gt;11 -->\n",
       "<g class=\"edge\" id=\"edge19\"><title>6-&gt;11</title>\n",
       "<path d=\"M185.77,-71.6966C187.646,-63.3716 190.781,-53.2339 194.256,-44.0823\" fill=\"none\" stroke=\"black\"/>\n",
       "<polygon fill=\"black\" points=\"197.559,-45.2515 198.115,-34.6712 191.082,-42.5955 197.559,-45.2515\" stroke=\"black\"/>\n",
       "</g>\n",
       "<!-- 7&#45;&gt;2 -->\n",
       "<g class=\"edge\" id=\"edge8\"><title>7-&gt;2</title>\n",
       "<path d=\"M337.879,-107.956C338.714,-115.827 338.948,-125.374 338.583,-134.187\" fill=\"none\" stroke=\"black\"/>\n",
       "<polygon fill=\"black\" points=\"335.074,-134.184 337.84,-144.411 342.056,-134.691 335.074,-134.184\" stroke=\"black\"/>\n",
       "</g>\n",
       "<!-- 7&#45;&gt;7 -->\n",
       "<g class=\"edge\" id=\"edge3\"><title>7-&gt;7</title>\n",
       "<path d=\"M351.895,-102.432C364.688,-105.675 377,-101.531 377,-90 377,-81.6218 370.501,-77.1433 362.039,-76.5644\" fill=\"none\" stroke=\"black\"/>\n",
       "<polygon fill=\"black\" points=\"361.502,-73.1004 351.895,-77.5679 362.191,-80.0665 361.502,-73.1004\" stroke=\"black\"/>\n",
       "</g>\n",
       "<!-- 8&#45;&gt;3 -->\n",
       "<g class=\"edge\" id=\"edge22\"><title>8-&gt;3</title>\n",
       "<path d=\"M427.879,-107.956C428.714,-115.827 428.948,-125.374 428.583,-134.187\" fill=\"none\" stroke=\"black\"/>\n",
       "<polygon fill=\"black\" points=\"425.074,-134.184 427.84,-144.411 432.056,-134.691 425.074,-134.184\" stroke=\"black\"/>\n",
       "</g>\n",
       "<!-- 8&#45;&gt;8 -->\n",
       "<g class=\"edge\" id=\"edge29\"><title>8-&gt;8</title>\n",
       "<path d=\"M441.895,-102.432C454.688,-105.675 467,-101.531 467,-90 467,-81.6218 460.501,-77.1433 452.039,-76.5644\" fill=\"none\" stroke=\"black\"/>\n",
       "<polygon fill=\"black\" points=\"451.502,-73.1004 441.895,-77.5679 452.191,-80.0665 451.502,-73.1004\" stroke=\"black\"/>\n",
       "</g>\n",
       "<!-- 9&#45;&gt;4 -->\n",
       "<g class=\"edge\" id=\"edge6\"><title>9-&gt;4</title>\n",
       "<path d=\"M517.879,-107.956C518.714,-115.827 518.948,-125.374 518.583,-134.187\" fill=\"none\" stroke=\"black\"/>\n",
       "<polygon fill=\"black\" points=\"515.074,-134.184 517.84,-144.411 522.056,-134.691 515.074,-134.184\" stroke=\"black\"/>\n",
       "</g>\n",
       "<!-- 9&#45;&gt;9 -->\n",
       "<g class=\"edge\" id=\"edge27\"><title>9-&gt;9</title>\n",
       "<path d=\"M531.895,-102.432C544.688,-105.675 557,-101.531 557,-90 557,-81.6218 550.501,-77.1433 542.039,-76.5644\" fill=\"none\" stroke=\"black\"/>\n",
       "<polygon fill=\"black\" points=\"541.502,-73.1004 531.895,-77.5679 542.191,-80.0665 541.502,-73.1004\" stroke=\"black\"/>\n",
       "</g>\n",
       "<!-- 10&#45;&gt;0 -->\n",
       "<g class=\"edge\" id=\"edge16\"><title>10-&gt;0</title>\n",
       "<path d=\"M92.8313,-35.3702C96.1591,-53.4503 96.3261,-83.276 90,-108 87.2943,-118.574 82.3401,-129.523 76.8284,-138.705\" fill=\"none\" stroke=\"black\"/>\n",
       "<polygon fill=\"black\" points=\"73.7944,-136.947 71.1935,-147.218 79.6316,-140.811 73.7944,-136.947\" stroke=\"black\"/>\n",
       "</g>\n",
       "<!-- 10&#45;&gt;5 -->\n",
       "<g class=\"edge\" id=\"edge23\"><title>10-&gt;5</title>\n",
       "<path d=\"M77.222,-35.4119C70.2416,-45.1351 60.093,-57.5547 50.6553,-67.9888\" fill=\"none\" stroke=\"black\"/>\n",
       "<polygon fill=\"black\" points=\"47.906,-65.8048 43.641,-75.5033 53.0232,-70.5813 47.906,-65.8048\" stroke=\"black\"/>\n",
       "</g>\n",
       "<!-- 10&#45;&gt;10 -->\n",
       "<g class=\"edge\" id=\"edge25\"><title>10-&gt;10</title>\n",
       "<path d=\"M104.895,-30.4321C117.688,-33.6753 130,-29.5312 130,-18 130,-9.62183 123.501,-5.14331 115.039,-4.56444\" fill=\"none\" stroke=\"black\"/>\n",
       "<polygon fill=\"black\" points=\"114.502,-1.10045 104.895,-5.56787 115.191,-8.06645 114.502,-1.10045\" stroke=\"black\"/>\n",
       "</g>\n",
       "<!-- 11&#45;&gt;1 -->\n",
       "<g class=\"edge\" id=\"edge13\"><title>11-&gt;1</title>\n",
       "<path d=\"M226.702,-32.0496C235.679,-42.2667 244.985,-57.1842 249,-72 253.185,-87.4431 252.617,-92.4142 249,-108 246.532,-118.633 241.618,-129.591 236.072,-138.764\" fill=\"none\" stroke=\"black\"/>\n",
       "<polygon fill=\"black\" points=\"233.037,-137.007 230.382,-147.264 238.854,-140.901 233.037,-137.007\" stroke=\"black\"/>\n",
       "</g>\n",
       "<!-- 11&#45;&gt;6 -->\n",
       "<g class=\"edge\" id=\"edge30\"><title>11-&gt;6</title>\n",
       "<path d=\"M209.195,-36.4609C207.303,-44.8044 204.16,-54.9413 200.684,-64.0769\" fill=\"none\" stroke=\"black\"/>\n",
       "<polygon fill=\"black\" points=\"197.39,-62.885 196.824,-73.4647 203.864,-65.5467 197.39,-62.885\" stroke=\"black\"/>\n",
       "</g>\n",
       "<!-- 11&#45;&gt;11 -->\n",
       "<g class=\"edge\" id=\"edge1\"><title>11-&gt;11</title>\n",
       "<path d=\"M228.895,-30.4321C241.688,-33.6753 254,-29.5312 254,-18 254,-9.62183 247.501,-5.14331 239.039,-4.56444\" fill=\"none\" stroke=\"black\"/>\n",
       "<polygon fill=\"black\" points=\"238.502,-1.10045 228.895,-5.56787 239.191,-8.06645 238.502,-1.10045\" stroke=\"black\"/>\n",
       "</g>\n",
       "</g>\n",
       "</svg>"
      ],
      "text/plain": [
       "<IPython.core.display.SVG object>"
      ]
     },
     "metadata": {},
     "output_type": "display_data"
    },
    {
     "data": {
      "text/plain": [
       "'Digraph.gv.svg'"
      ]
     },
     "execution_count": 10,
     "metadata": {},
     "output_type": "execute_result"
    }
   ],
   "source": [
    "r.pinta()"
   ]
  },
  {
   "cell_type": "markdown",
   "metadata": {},
   "source": [
    "Esta relación no es de orden"
   ]
  },
  {
   "cell_type": "code",
   "execution_count": 11,
   "metadata": {
    "collapsed": false
   },
   "outputs": [
    {
     "data": {
      "text/plain": [
       "False"
      ]
     },
     "execution_count": 11,
     "metadata": {},
     "output_type": "execute_result"
    }
   ],
   "source": [
    "r.es_orden()"
   ]
  },
  {
   "cell_type": "markdown",
   "metadata": {},
   "source": [
    "Pues no es antisimétrica"
   ]
  },
  {
   "cell_type": "code",
   "execution_count": 12,
   "metadata": {
    "collapsed": false
   },
   "outputs": [
    {
     "data": {
      "text/plain": [
       "False"
      ]
     },
     "execution_count": 12,
     "metadata": {},
     "output_type": "execute_result"
    }
   ],
   "source": [
    "r.es_antisimetrica()"
   ]
  },
  {
   "cell_type": "markdown",
   "metadata": {},
   "source": [
    "## Diagramas de Hasse"
   ]
  },
  {
   "cell_type": "markdown",
   "metadata": {},
   "source": [
    "Veamos ahora como ejemplo el conjunto de los divisores de 12 con la relación de divisibilidad"
   ]
  },
  {
   "cell_type": "code",
   "execution_count": 13,
   "metadata": {
    "collapsed": false
   },
   "outputs": [],
   "source": [
    "d = set(a for a in range(1,13) if 12%a ==0)"
   ]
  },
  {
   "cell_type": "code",
   "execution_count": 14,
   "metadata": {
    "collapsed": false
   },
   "outputs": [],
   "source": [
    "rd =relacion(set((a,b) for a in d for b in d if b%a ==0))"
   ]
  },
  {
   "cell_type": "markdown",
   "metadata": {},
   "source": [
    "Podemos dibujar el diagrama de Hasse como sigue"
   ]
  },
  {
   "cell_type": "code",
   "execution_count": 15,
   "metadata": {
    "collapsed": false
   },
   "outputs": [
    {
     "data": {
      "image/svg+xml": [
       "<svg height=\"260pt\" viewBox=\"0.00 0.00 134.00 260.00\" width=\"134pt\" xmlns=\"http://www.w3.org/2000/svg\" xmlns:xlink=\"http://www.w3.org/1999/xlink\">\n",
       "<g class=\"graph\" id=\"graph0\" transform=\"scale(1 1) rotate(0) translate(4 256)\">\n",
       "<title>%3</title>\n",
       "<polygon fill=\"white\" points=\"-4,4 -4,-256 130,-256 130,4 -4,4\" stroke=\"none\"/>\n",
       "<!-- 1 -->\n",
       "<g class=\"node\" id=\"node1\"><title>1</title>\n",
       "<ellipse cx=\"63\" cy=\"-18\" fill=\"none\" rx=\"27\" ry=\"18\" stroke=\"black\"/>\n",
       "<text font-family=\"Times,serif\" font-size=\"14.00\" text-anchor=\"middle\" x=\"63\" y=\"-14.3\">1</text>\n",
       "</g>\n",
       "<!-- 2 -->\n",
       "<g class=\"node\" id=\"node2\"><title>2</title>\n",
       "<ellipse cx=\"27\" cy=\"-90\" fill=\"none\" rx=\"27\" ry=\"18\" stroke=\"black\"/>\n",
       "<text font-family=\"Times,serif\" font-size=\"14.00\" text-anchor=\"middle\" x=\"27\" y=\"-86.3\">2</text>\n",
       "</g>\n",
       "<!-- 2&#45;&#45;1 -->\n",
       "<g class=\"edge\" id=\"edge1\"><title>2--1</title>\n",
       "<path d=\"M35.3496,-72.7646C41.1655,-61.456 48.8897,-46.4367 54.6957,-35.1473\" fill=\"none\" stroke=\"black\"/>\n",
       "</g>\n",
       "<!-- 3 -->\n",
       "<g class=\"node\" id=\"node3\"><title>3</title>\n",
       "<ellipse cx=\"99\" cy=\"-90\" fill=\"none\" rx=\"27\" ry=\"18\" stroke=\"black\"/>\n",
       "<text font-family=\"Times,serif\" font-size=\"14.00\" text-anchor=\"middle\" x=\"99\" y=\"-86.3\">3</text>\n",
       "</g>\n",
       "<!-- 3&#45;&#45;1 -->\n",
       "<g class=\"edge\" id=\"edge3\"><title>3--1</title>\n",
       "<path d=\"M90.6504,-72.7646C84.8345,-61.456 77.1103,-46.4367 71.3043,-35.1473\" fill=\"none\" stroke=\"black\"/>\n",
       "</g>\n",
       "<!-- 4 -->\n",
       "<g class=\"node\" id=\"node4\"><title>4</title>\n",
       "<ellipse cx=\"27\" cy=\"-162\" fill=\"none\" rx=\"27\" ry=\"18\" stroke=\"black\"/>\n",
       "<text font-family=\"Times,serif\" font-size=\"14.00\" text-anchor=\"middle\" x=\"27\" y=\"-158.3\">4</text>\n",
       "</g>\n",
       "<!-- 4&#45;&#45;2 -->\n",
       "<g class=\"edge\" id=\"edge7\"><title>4--2</title>\n",
       "<path d=\"M27,-143.697C27,-132.846 27,-118.917 27,-108.104\" fill=\"none\" stroke=\"black\"/>\n",
       "</g>\n",
       "<!-- 6 -->\n",
       "<g class=\"node\" id=\"node5\"><title>6</title>\n",
       "<ellipse cx=\"99\" cy=\"-162\" fill=\"none\" rx=\"27\" ry=\"18\" stroke=\"black\"/>\n",
       "<text font-family=\"Times,serif\" font-size=\"14.00\" text-anchor=\"middle\" x=\"99\" y=\"-158.3\">6</text>\n",
       "</g>\n",
       "<!-- 6&#45;&#45;2 -->\n",
       "<g class=\"edge\" id=\"edge2\"><title>6--2</title>\n",
       "<path d=\"M84.4297,-146.834C72.0202,-134.77 54.2694,-117.512 41.7957,-105.385\" fill=\"none\" stroke=\"black\"/>\n",
       "</g>\n",
       "<!-- 6&#45;&#45;3 -->\n",
       "<g class=\"edge\" id=\"edge5\"><title>6--3</title>\n",
       "<path d=\"M99,-143.697C99,-132.846 99,-118.917 99,-108.104\" fill=\"none\" stroke=\"black\"/>\n",
       "</g>\n",
       "<!-- 12 -->\n",
       "<g class=\"node\" id=\"node6\"><title>12</title>\n",
       "<ellipse cx=\"63\" cy=\"-234\" fill=\"none\" rx=\"27\" ry=\"18\" stroke=\"black\"/>\n",
       "<text font-family=\"Times,serif\" font-size=\"14.00\" text-anchor=\"middle\" x=\"63\" y=\"-230.3\">12</text>\n",
       "</g>\n",
       "<!-- 12&#45;&#45;4 -->\n",
       "<g class=\"edge\" id=\"edge4\"><title>12--4</title>\n",
       "<path d=\"M54.6504,-216.765C48.8345,-205.456 41.1103,-190.437 35.3043,-179.147\" fill=\"none\" stroke=\"black\"/>\n",
       "</g>\n",
       "<!-- 12&#45;&#45;6 -->\n",
       "<g class=\"edge\" id=\"edge6\"><title>12--6</title>\n",
       "<path d=\"M71.3496,-216.765C77.1655,-205.456 84.8897,-190.437 90.6957,-179.147\" fill=\"none\" stroke=\"black\"/>\n",
       "</g>\n",
       "</g>\n",
       "</svg>"
      ],
      "text/plain": [
       "<IPython.core.display.SVG object>"
      ]
     },
     "metadata": {},
     "output_type": "display_data"
    },
    {
     "data": {
      "text/plain": [
       "Relación binaria"
      ]
     },
     "execution_count": 15,
     "metadata": {},
     "output_type": "execute_result"
    }
   ],
   "source": [
    "rd.hasse()"
   ]
  },
  {
   "cell_type": "markdown",
   "metadata": {},
   "source": [
    "O bien pintar todas las relaciones"
   ]
  },
  {
   "cell_type": "code",
   "execution_count": 16,
   "metadata": {
    "collapsed": false,
    "scrolled": true
   },
   "outputs": [
    {
     "data": {
      "image/svg+xml": [
       "<svg height=\"260pt\" viewBox=\"0.00 0.00 280.91 260.00\" width=\"281pt\" xmlns=\"http://www.w3.org/2000/svg\" xmlns:xlink=\"http://www.w3.org/1999/xlink\">\n",
       "<g class=\"graph\" id=\"graph0\" transform=\"scale(1 1) rotate(0) translate(4 256)\">\n",
       "<title>%3</title>\n",
       "<polygon fill=\"white\" points=\"-4,4 -4,-256 276.906,-256 276.906,4 -4,4\" stroke=\"none\"/>\n",
       "<!-- 1 -->\n",
       "<g class=\"node\" id=\"node1\"><title>1</title>\n",
       "<ellipse cx=\"155\" cy=\"-234\" fill=\"none\" rx=\"27\" ry=\"18\" stroke=\"black\"/>\n",
       "<text font-family=\"Times,serif\" font-size=\"14.00\" text-anchor=\"middle\" x=\"155\" y=\"-230.3\">1</text>\n",
       "</g>\n",
       "<!-- 1&#45;&gt;1 -->\n",
       "<g class=\"edge\" id=\"edge18\"><title>1-&gt;1</title>\n",
       "<path d=\"M174.895,-246.432C187.688,-249.675 200,-245.531 200,-234 200,-225.622 193.501,-221.143 185.039,-220.564\" fill=\"none\" stroke=\"black\"/>\n",
       "<polygon fill=\"black\" points=\"184.502,-217.1 174.895,-221.568 185.191,-224.066 184.502,-217.1\" stroke=\"black\"/>\n",
       "</g>\n",
       "<!-- 2 -->\n",
       "<g class=\"node\" id=\"node2\"><title>2</title>\n",
       "<ellipse cx=\"82\" cy=\"-162\" fill=\"none\" rx=\"27\" ry=\"18\" stroke=\"black\"/>\n",
       "<text font-family=\"Times,serif\" font-size=\"14.00\" text-anchor=\"middle\" x=\"82\" y=\"-158.3\">2</text>\n",
       "</g>\n",
       "<!-- 1&#45;&gt;2 -->\n",
       "<g class=\"edge\" id=\"edge1\"><title>1-&gt;2</title>\n",
       "<path d=\"M140.227,-218.834C129.838,-208.872 115.756,-195.369 104.043,-184.137\" fill=\"none\" stroke=\"black\"/>\n",
       "<polygon fill=\"black\" points=\"106.391,-181.539 96.7507,-177.144 101.546,-186.592 106.391,-181.539\" stroke=\"black\"/>\n",
       "</g>\n",
       "<!-- 3 -->\n",
       "<g class=\"node\" id=\"node3\"><title>3</title>\n",
       "<ellipse cx=\"210\" cy=\"-162\" fill=\"none\" rx=\"27\" ry=\"18\" stroke=\"black\"/>\n",
       "<text font-family=\"Times,serif\" font-size=\"14.00\" text-anchor=\"middle\" x=\"210\" y=\"-158.3\">3</text>\n",
       "</g>\n",
       "<!-- 1&#45;&gt;3 -->\n",
       "<g class=\"edge\" id=\"edge2\"><title>1-&gt;3</title>\n",
       "<path d=\"M166.934,-217.811C174.214,-208.546 183.663,-196.52 191.854,-186.094\" fill=\"none\" stroke=\"black\"/>\n",
       "<polygon fill=\"black\" points=\"194.663,-188.185 198.089,-178.159 189.159,-183.86 194.663,-188.185\" stroke=\"black\"/>\n",
       "</g>\n",
       "<!-- 4 -->\n",
       "<g class=\"node\" id=\"node4\"><title>4</title>\n",
       "<ellipse cx=\"27\" cy=\"-90\" fill=\"none\" rx=\"27\" ry=\"18\" stroke=\"black\"/>\n",
       "<text font-family=\"Times,serif\" font-size=\"14.00\" text-anchor=\"middle\" x=\"27\" y=\"-86.3\">4</text>\n",
       "</g>\n",
       "<!-- 1&#45;&gt;4 -->\n",
       "<g class=\"edge\" id=\"edge10\"><title>1-&gt;4</title>\n",
       "<path d=\"M129.738,-227.541C104.613,-220.76 66.8852,-206.674 46,-180 32.339,-162.552 27.9438,-137.509 26.762,-118.429\" fill=\"none\" stroke=\"black\"/>\n",
       "<polygon fill=\"black\" points=\"30.2534,-118.126 26.3945,-108.259 23.258,-118.379 30.2534,-118.126\" stroke=\"black\"/>\n",
       "</g>\n",
       "<!-- 6 -->\n",
       "<g class=\"node\" id=\"node5\"><title>6</title>\n",
       "<ellipse cx=\"155\" cy=\"-90\" fill=\"none\" rx=\"27\" ry=\"18\" stroke=\"black\"/>\n",
       "<text font-family=\"Times,serif\" font-size=\"14.00\" text-anchor=\"middle\" x=\"155\" y=\"-86.3\">6</text>\n",
       "</g>\n",
       "<!-- 1&#45;&gt;6 -->\n",
       "<g class=\"edge\" id=\"edge12\"><title>1-&gt;6</title>\n",
       "<path d=\"M155,-215.871C155,-191.67 155,-147.211 155,-118.393\" fill=\"none\" stroke=\"black\"/>\n",
       "<polygon fill=\"black\" points=\"158.5,-118.189 155,-108.189 151.5,-118.189 158.5,-118.189\" stroke=\"black\"/>\n",
       "</g>\n",
       "<!-- 12 -->\n",
       "<g class=\"node\" id=\"node6\"><title>12</title>\n",
       "<ellipse cx=\"155\" cy=\"-18\" fill=\"none\" rx=\"27\" ry=\"18\" stroke=\"black\"/>\n",
       "<text font-family=\"Times,serif\" font-size=\"14.00\" text-anchor=\"middle\" x=\"155\" y=\"-14.3\">12</text>\n",
       "</g>\n",
       "<!-- 1&#45;&gt;12 -->\n",
       "<g class=\"edge\" id=\"edge5\"><title>1-&gt;12</title>\n",
       "<path d=\"M180.982,-228.499C207.072,-222.446 245.919,-208.897 264,-180 297.264,-126.838 224.84,-66.0432 182.609,-36.6933\" fill=\"none\" stroke=\"black\"/>\n",
       "<polygon fill=\"black\" points=\"184.344,-33.6412 174.104,-30.9217 180.413,-39.4333 184.344,-33.6412\" stroke=\"black\"/>\n",
       "</g>\n",
       "<!-- 2&#45;&gt;2 -->\n",
       "<g class=\"edge\" id=\"edge15\"><title>2-&gt;2</title>\n",
       "<path d=\"M101.895,-174.432C114.688,-177.675 127,-173.531 127,-162 127,-153.622 120.501,-149.143 112.039,-148.564\" fill=\"none\" stroke=\"black\"/>\n",
       "<polygon fill=\"black\" points=\"111.502,-145.1 101.895,-149.568 112.191,-152.066 111.502,-145.1\" stroke=\"black\"/>\n",
       "</g>\n",
       "<!-- 2&#45;&gt;4 -->\n",
       "<g class=\"edge\" id=\"edge11\"><title>2-&gt;4</title>\n",
       "<path d=\"M70.0658,-145.811C62.7864,-136.546 53.3374,-124.52 45.1456,-114.094\" fill=\"none\" stroke=\"black\"/>\n",
       "<polygon fill=\"black\" points=\"47.8413,-111.86 38.9109,-106.159 42.337,-116.185 47.8413,-111.86\" stroke=\"black\"/>\n",
       "</g>\n",
       "<!-- 2&#45;&gt;6 -->\n",
       "<g class=\"edge\" id=\"edge3\"><title>2-&gt;6</title>\n",
       "<path d=\"M96.7726,-146.834C107.162,-136.872 121.244,-123.369 132.957,-112.137\" fill=\"none\" stroke=\"black\"/>\n",
       "<polygon fill=\"black\" points=\"135.454,-114.592 140.249,-105.144 130.609,-109.539 135.454,-114.592\" stroke=\"black\"/>\n",
       "</g>\n",
       "<!-- 2&#45;&gt;12 -->\n",
       "<g class=\"edge\" id=\"edge13\"><title>2-&gt;12</title>\n",
       "<path d=\"M87.8471,-144.133C94.4397,-125.88 105.956,-96.1446 119,-72 124.314,-62.1646 131.003,-51.8833 137.17,-43.022\" fill=\"none\" stroke=\"black\"/>\n",
       "<polygon fill=\"black\" points=\"140.144,-44.8796 143.092,-34.7032 134.441,-40.8201 140.144,-44.8796\" stroke=\"black\"/>\n",
       "</g>\n",
       "<!-- 3&#45;&gt;3 -->\n",
       "<g class=\"edge\" id=\"edge4\"><title>3-&gt;3</title>\n",
       "<path d=\"M229.895,-174.432C242.688,-177.675 255,-173.531 255,-162 255,-153.622 248.501,-149.143 240.039,-148.564\" fill=\"none\" stroke=\"black\"/>\n",
       "<polygon fill=\"black\" points=\"239.502,-145.1 229.895,-149.568 240.191,-152.066 239.502,-145.1\" stroke=\"black\"/>\n",
       "</g>\n",
       "<!-- 3&#45;&gt;6 -->\n",
       "<g class=\"edge\" id=\"edge14\"><title>3-&gt;6</title>\n",
       "<path d=\"M198.066,-145.811C190.786,-136.546 181.337,-124.52 173.146,-114.094\" fill=\"none\" stroke=\"black\"/>\n",
       "<polygon fill=\"black\" points=\"175.841,-111.86 166.911,-106.159 170.337,-116.185 175.841,-111.86\" stroke=\"black\"/>\n",
       "</g>\n",
       "<!-- 3&#45;&gt;12 -->\n",
       "<g class=\"edge\" id=\"edge6\"><title>3-&gt;12</title>\n",
       "<path d=\"M213.501,-144.148C216.524,-125.647 218.999,-95.454 209,-72 203.212,-58.4228 192.102,-46.554 181.457,-37.5094\" fill=\"none\" stroke=\"black\"/>\n",
       "<polygon fill=\"black\" points=\"183.503,-34.664 173.503,-31.162 179.136,-40.1353 183.503,-34.664\" stroke=\"black\"/>\n",
       "</g>\n",
       "<!-- 4&#45;&gt;4 -->\n",
       "<g class=\"edge\" id=\"edge8\"><title>4-&gt;4</title>\n",
       "<path d=\"M46.895,-102.432C59.688,-105.675 72,-101.531 72,-90 72,-81.6218 65.5006,-77.1433 57.0395,-76.5644\" fill=\"none\" stroke=\"black\"/>\n",
       "<polygon fill=\"black\" points=\"56.5019,-73.1004 46.895,-77.5679 57.191,-80.0665 56.5019,-73.1004\" stroke=\"black\"/>\n",
       "</g>\n",
       "<!-- 4&#45;&gt;12 -->\n",
       "<g class=\"edge\" id=\"edge16\"><title>4-&gt;12</title>\n",
       "<path d=\"M47.282,-77.9083C68.441,-66.337 101.812,-48.0872 125.805,-34.9662\" fill=\"none\" stroke=\"black\"/>\n",
       "<polygon fill=\"black\" points=\"127.719,-37.9088 134.813,-30.0398 124.36,-31.7672 127.719,-37.9088\" stroke=\"black\"/>\n",
       "</g>\n",
       "<!-- 6&#45;&gt;6 -->\n",
       "<g class=\"edge\" id=\"edge7\"><title>6-&gt;6</title>\n",
       "<path d=\"M174.895,-102.432C187.688,-105.675 200,-101.531 200,-90 200,-81.6218 193.501,-77.1433 185.039,-76.5644\" fill=\"none\" stroke=\"black\"/>\n",
       "<polygon fill=\"black\" points=\"184.502,-73.1004 174.895,-77.5679 185.191,-80.0665 184.502,-73.1004\" stroke=\"black\"/>\n",
       "</g>\n",
       "<!-- 6&#45;&gt;12 -->\n",
       "<g class=\"edge\" id=\"edge17\"><title>6-&gt;12</title>\n",
       "<path d=\"M155,-71.6966C155,-63.9827 155,-54.7125 155,-46.1124\" fill=\"none\" stroke=\"black\"/>\n",
       "<polygon fill=\"black\" points=\"158.5,-46.1043 155,-36.1043 151.5,-46.1044 158.5,-46.1043\" stroke=\"black\"/>\n",
       "</g>\n",
       "<!-- 12&#45;&gt;12 -->\n",
       "<g class=\"edge\" id=\"edge9\"><title>12-&gt;12</title>\n",
       "<path d=\"M174.895,-30.4321C187.688,-33.6753 200,-29.5312 200,-18 200,-9.62183 193.501,-5.14331 185.039,-4.56444\" fill=\"none\" stroke=\"black\"/>\n",
       "<polygon fill=\"black\" points=\"184.502,-1.10045 174.895,-5.56787 185.191,-8.06645 184.502,-1.10045\" stroke=\"black\"/>\n",
       "</g>\n",
       "</g>\n",
       "</svg>"
      ],
      "text/plain": [
       "<IPython.core.display.SVG object>"
      ]
     },
     "metadata": {},
     "output_type": "display_data"
    },
    {
     "data": {
      "text/plain": [
       "'Digraph.gv.svg'"
      ]
     },
     "execution_count": 16,
     "metadata": {},
     "output_type": "execute_result"
    }
   ],
   "source": [
    "rd.pinta()"
   ]
  },
  {
   "cell_type": "markdown",
   "metadata": {},
   "source": [
    "Claramente esta relación es de orden, y no es un orden total"
   ]
  },
  {
   "cell_type": "code",
   "execution_count": 17,
   "metadata": {
    "collapsed": false
   },
   "outputs": [
    {
     "data": {
      "text/plain": [
       "True"
      ]
     },
     "execution_count": 17,
     "metadata": {},
     "output_type": "execute_result"
    }
   ],
   "source": [
    "rd.es_orden()"
   ]
  },
  {
   "cell_type": "code",
   "execution_count": 18,
   "metadata": {
    "collapsed": false
   },
   "outputs": [
    {
     "data": {
      "text/plain": [
       "False"
      ]
     },
     "execution_count": 18,
     "metadata": {},
     "output_type": "execute_result"
    }
   ],
   "source": [
    "rd.es_orden_total()"
   ]
  },
  {
   "cell_type": "markdown",
   "metadata": {},
   "source": [
    "Los elementos notables se calculan con los métodos que tienen nombres acordes a ellos"
   ]
  },
  {
   "cell_type": "code",
   "execution_count": 19,
   "metadata": {
    "collapsed": false
   },
   "outputs": [
    {
     "data": {
      "text/plain": [
       "{6}"
      ]
     },
     "execution_count": 19,
     "metadata": {},
     "output_type": "execute_result"
    }
   ],
   "source": [
    "rd.maximales(set({2,3,6}))"
   ]
  },
  {
   "cell_type": "code",
   "execution_count": 20,
   "metadata": {
    "collapsed": false
   },
   "outputs": [
    {
     "data": {
      "text/plain": [
       "{2, 3}"
      ]
     },
     "execution_count": 20,
     "metadata": {},
     "output_type": "execute_result"
    }
   ],
   "source": [
    "rd.maximales(set({2,3}))"
   ]
  },
  {
   "cell_type": "markdown",
   "metadata": {},
   "source": [
    "O incluso podemos destacar esos elementos en el dibujo de relaciones"
   ]
  },
  {
   "cell_type": "code",
   "execution_count": 21,
   "metadata": {
    "collapsed": false
   },
   "outputs": [
    {
     "data": {
      "image/svg+xml": [
       "<svg height=\"280pt\" viewBox=\"0.00 0.00 248.00 280.30\" width=\"248pt\" xmlns=\"http://www.w3.org/2000/svg\" xmlns:xlink=\"http://www.w3.org/1999/xlink\">\n",
       "<g class=\"graph\" id=\"graph0\" transform=\"scale(1 1) rotate(0) translate(4 276.296)\">\n",
       "<title>%3</title>\n",
       "<polygon fill=\"white\" points=\"-4,4 -4,-276.296 244,-276.296 244,4 -4,4\" stroke=\"none\"/>\n",
       "<!-- 12 -->\n",
       "<g class=\"node\" id=\"node1\"><title>12</title>\n",
       "<ellipse cx=\"120\" cy=\"-24.1482\" fill=\"none\" rx=\"20.2726\" ry=\"20.2726\" stroke=\"black\"/>\n",
       "<ellipse cx=\"120\" cy=\"-24.1482\" fill=\"none\" rx=\"24.2973\" ry=\"24.2973\" stroke=\"black\"/>\n",
       "<text font-family=\"Times,serif\" font-size=\"14.00\" text-anchor=\"middle\" x=\"120\" y=\"-20.4482\">12</text>\n",
       "</g>\n",
       "<!-- 12&#45;&gt;12 -->\n",
       "<g class=\"edge\" id=\"edge9\"><title>12-&gt;12</title>\n",
       "<path d=\"M139.51,-38.5623C151.172,-41.7654 162.148,-36.9607 162.148,-24.1482 162.148,-15.3396 156.96,-10.316 149.928,-9.07726\" fill=\"none\" stroke=\"black\"/>\n",
       "<polygon fill=\"black\" points=\"149.27,-5.61172 139.51,-9.73415 149.71,-12.5979 149.27,-5.61172\" stroke=\"black\"/>\n",
       "</g>\n",
       "<!-- 6 -->\n",
       "<g class=\"node\" id=\"node2\"><title>6</title>\n",
       "<ellipse cx=\"52\" cy=\"-106.296\" fill=\"none\" rx=\"18\" ry=\"18\" stroke=\"black\"/>\n",
       "<ellipse cx=\"52\" cy=\"-106.296\" fill=\"none\" rx=\"22\" ry=\"22\" stroke=\"black\"/>\n",
       "<text font-family=\"Times,serif\" font-size=\"14.00\" text-anchor=\"middle\" x=\"52\" y=\"-102.596\">6</text>\n",
       "</g>\n",
       "<!-- 6&#45;&gt;12 -->\n",
       "<g class=\"edge\" id=\"edge17\"><title>6-&gt;12</title>\n",
       "<path d=\"M65.7608,-89.0772C75.0566,-78.1208 87.5259,-63.4238 98.1648,-50.8843\" fill=\"none\" stroke=\"black\"/>\n",
       "<polygon fill=\"black\" points=\"101.039,-52.9063 104.84,-43.0166 95.7015,-48.3776 101.039,-52.9063\" stroke=\"black\"/>\n",
       "</g>\n",
       "<!-- 6&#45;&gt;6 -->\n",
       "<g class=\"edge\" id=\"edge7\"><title>6-&gt;6</title>\n",
       "<path d=\"M69.6845,-119.419C81.056,-122.843 92,-118.468 92,-106.296 92,-97.9283 86.8272,-93.2457 79.8991,-92.2487\" fill=\"none\" stroke=\"black\"/>\n",
       "<polygon fill=\"black\" points=\"79.3281,-88.786 69.6845,-93.1736 79.9594,-95.7575 79.3281,-88.786\" stroke=\"black\"/>\n",
       "</g>\n",
       "<!-- 1 -->\n",
       "<g class=\"node\" id=\"node3\"><title>1</title>\n",
       "<ellipse cx=\"120\" cy=\"-254.296\" fill=\"none\" rx=\"18\" ry=\"18\" stroke=\"black\"/>\n",
       "<text font-family=\"Times,serif\" font-size=\"14.00\" text-anchor=\"middle\" x=\"120\" y=\"-250.596\">1</text>\n",
       "</g>\n",
       "<!-- 1&#45;&gt;12 -->\n",
       "<g class=\"edge\" id=\"edge5\"><title>1-&gt;12</title>\n",
       "<path d=\"M120,-236.148C120,-198.495 120,-108.023 120,-58.6602\" fill=\"none\" stroke=\"black\"/>\n",
       "<polygon fill=\"black\" points=\"123.5,-58.4952 120,-48.4952 116.5,-58.4953 123.5,-58.4952\" stroke=\"black\"/>\n",
       "</g>\n",
       "<!-- 1&#45;&gt;6 -->\n",
       "<g class=\"edge\" id=\"edge12\"><title>1-&gt;6</title>\n",
       "<path d=\"M112.723,-237.672C101.408,-213.377 79.4248,-166.179 65.2443,-135.733\" fill=\"none\" stroke=\"black\"/>\n",
       "<polygon fill=\"black\" points=\"68.3327,-134.074 60.9379,-126.487 61.9872,-137.029 68.3327,-134.074\" stroke=\"black\"/>\n",
       "</g>\n",
       "<!-- 1&#45;&gt;1 -->\n",
       "<g class=\"edge\" id=\"edge18\"><title>1-&gt;1</title>\n",
       "<path d=\"M134.042,-266.053C144.913,-270.45 156,-266.531 156,-254.296 156,-245.885 150.759,-241.405 143.952,-240.854\" fill=\"none\" stroke=\"black\"/>\n",
       "<polygon fill=\"black\" points=\"143.313,-237.412 134.042,-242.54 144.487,-244.313 143.313,-237.412\" stroke=\"black\"/>\n",
       "</g>\n",
       "<!-- 2 -->\n",
       "<g class=\"node\" id=\"node4\"><title>2</title>\n",
       "<ellipse cx=\"166\" cy=\"-182.296\" fill=\"none\" rx=\"18\" ry=\"18\" stroke=\"black\"/>\n",
       "<text font-family=\"Times,serif\" font-size=\"14.00\" text-anchor=\"middle\" x=\"166\" y=\"-178.596\">2</text>\n",
       "</g>\n",
       "<!-- 1&#45;&gt;2 -->\n",
       "<g class=\"edge\" id=\"edge1\"><title>1-&gt;2</title>\n",
       "<path d=\"M129.531,-238.792C135.699,-229.407 143.862,-216.985 150.901,-206.273\" fill=\"none\" stroke=\"black\"/>\n",
       "<polygon fill=\"black\" points=\"153.914,-208.061 156.481,-197.782 148.064,-204.217 153.914,-208.061\" stroke=\"black\"/>\n",
       "</g>\n",
       "<!-- 3 -->\n",
       "<g class=\"node\" id=\"node5\"><title>3</title>\n",
       "<ellipse cx=\"18\" cy=\"-182.296\" fill=\"none\" rx=\"18\" ry=\"18\" stroke=\"black\"/>\n",
       "<text font-family=\"Times,serif\" font-size=\"14.00\" text-anchor=\"middle\" x=\"18\" y=\"-178.596\">3</text>\n",
       "</g>\n",
       "<!-- 1&#45;&gt;3 -->\n",
       "<g class=\"edge\" id=\"edge2\"><title>1-&gt;3</title>\n",
       "<path d=\"M105.386,-243.267C88.571,-231.727 60.7451,-212.631 41.0142,-199.091\" fill=\"none\" stroke=\"black\"/>\n",
       "<polygon fill=\"black\" points=\"42.8126,-196.08 32.587,-193.307 38.8517,-201.851 42.8126,-196.08\" stroke=\"black\"/>\n",
       "</g>\n",
       "<!-- 4 -->\n",
       "<g class=\"node\" id=\"node6\"><title>4</title>\n",
       "<ellipse cx=\"204\" cy=\"-106.296\" fill=\"none\" rx=\"18\" ry=\"18\" stroke=\"black\"/>\n",
       "<text font-family=\"Times,serif\" font-size=\"14.00\" text-anchor=\"middle\" x=\"204\" y=\"-102.596\">4</text>\n",
       "</g>\n",
       "<!-- 1&#45;&gt;4 -->\n",
       "<g class=\"edge\" id=\"edge10\"><title>1-&gt;4</title>\n",
       "<path d=\"M137.524,-248.843C159.221,-242.282 195.237,-227.718 211,-200.296 222.696,-179.949 218.903,-152.828 213.412,-133.128\" fill=\"none\" stroke=\"black\"/>\n",
       "<polygon fill=\"black\" points=\"216.671,-131.822 210.366,-123.307 209.985,-133.895 216.671,-131.822\" stroke=\"black\"/>\n",
       "</g>\n",
       "<!-- 2&#45;&gt;12 -->\n",
       "<g class=\"edge\" id=\"edge13\"><title>2-&gt;12</title>\n",
       "<path d=\"M161.164,-164.881C153.692,-139.516 139.197,-90.3116 129.557,-57.5881\" fill=\"none\" stroke=\"black\"/>\n",
       "<polygon fill=\"black\" points=\"132.796,-56.1971 126.612,-47.5938 126.081,-58.1753 132.796,-56.1971\" stroke=\"black\"/>\n",
       "</g>\n",
       "<!-- 2&#45;&gt;6 -->\n",
       "<g class=\"edge\" id=\"edge3\"><title>2-&gt;6</title>\n",
       "<path d=\"M151.096,-171.622C132.768,-159.725 101.318,-139.31 78.7615,-124.668\" fill=\"none\" stroke=\"black\"/>\n",
       "<polygon fill=\"black\" points=\"80.5937,-121.685 70.3003,-119.176 76.7824,-127.556 80.5937,-121.685\" stroke=\"black\"/>\n",
       "</g>\n",
       "<!-- 2&#45;&gt;2 -->\n",
       "<g class=\"edge\" id=\"edge15\"><title>2-&gt;2</title>\n",
       "<path d=\"M180.042,-194.053C190.913,-198.45 202,-194.531 202,-182.296 202,-173.885 196.759,-169.405 189.952,-168.854\" fill=\"none\" stroke=\"black\"/>\n",
       "<polygon fill=\"black\" points=\"189.313,-165.412 180.042,-170.54 190.487,-172.313 189.313,-165.412\" stroke=\"black\"/>\n",
       "</g>\n",
       "<!-- 2&#45;&gt;4 -->\n",
       "<g class=\"edge\" id=\"edge11\"><title>2-&gt;4</title>\n",
       "<path d=\"M173.874,-165.964C178.969,-156.042 185.712,-142.91 191.527,-131.586\" fill=\"none\" stroke=\"black\"/>\n",
       "<polygon fill=\"black\" points=\"194.682,-133.104 196.136,-122.61 188.455,-129.906 194.682,-133.104\" stroke=\"black\"/>\n",
       "</g>\n",
       "<!-- 3&#45;&gt;12 -->\n",
       "<g class=\"edge\" id=\"edge6\"><title>3-&gt;12</title>\n",
       "<path d=\"M13.9425,-164.53C9.96343,-144.068 6.39591,-109.131 21,-84.2964 35.4102,-59.7912 64.2905,-44.2736 87.1565,-35.3123\" fill=\"none\" stroke=\"black\"/>\n",
       "<polygon fill=\"black\" points=\"88.664,-38.4874 96.8463,-31.7568 86.2526,-31.9158 88.664,-38.4874\" stroke=\"black\"/>\n",
       "</g>\n",
       "<!-- 3&#45;&gt;6 -->\n",
       "<g class=\"edge\" id=\"edge14\"><title>3-&gt;6</title>\n",
       "<path d=\"M25.2105,-165.603C29.1694,-156.987 34.2028,-146.032 38.8353,-135.949\" fill=\"none\" stroke=\"black\"/>\n",
       "<polygon fill=\"black\" points=\"42.1111,-137.203 43.1058,-126.654 35.7503,-134.28 42.1111,-137.203\" stroke=\"black\"/>\n",
       "</g>\n",
       "<!-- 3&#45;&gt;3 -->\n",
       "<g class=\"edge\" id=\"edge4\"><title>3-&gt;3</title>\n",
       "<path d=\"M32.0417,-194.053C42.9126,-198.45 54,-194.531 54,-182.296 54,-173.885 48.7595,-169.405 41.9516,-168.854\" fill=\"none\" stroke=\"black\"/>\n",
       "<polygon fill=\"black\" points=\"41.3132,-165.412 32.0417,-170.54 42.4871,-172.313 41.3132,-165.412\" stroke=\"black\"/>\n",
       "</g>\n",
       "<!-- 4&#45;&gt;12 -->\n",
       "<g class=\"edge\" id=\"edge16\"><title>4-&gt;12</title>\n",
       "<path d=\"M191.242,-93.1236C178.97,-81.4142 160.085,-63.3955 144.842,-48.8511\" fill=\"none\" stroke=\"black\"/>\n",
       "<polygon fill=\"black\" points=\"146.908,-45.9848 137.257,-41.6138 142.076,-51.0494 146.908,-45.9848\" stroke=\"black\"/>\n",
       "</g>\n",
       "<!-- 4&#45;&gt;4 -->\n",
       "<g class=\"edge\" id=\"edge8\"><title>4-&gt;4</title>\n",
       "<path d=\"M217.667,-118.543C228.656,-123.441 240,-119.359 240,-106.296 240,-97.316 234.638,-92.5802 227.716,-92.089\" fill=\"none\" stroke=\"black\"/>\n",
       "<polygon fill=\"black\" points=\"226.811,-88.6995 217.667,-94.0503 228.152,-95.5699 226.811,-88.6995\" stroke=\"black\"/>\n",
       "</g>\n",
       "</g>\n",
       "</svg>"
      ],
      "text/plain": [
       "<IPython.core.display.SVG object>"
      ]
     },
     "metadata": {},
     "output_type": "display_data"
    },
    {
     "data": {
      "text/plain": [
       "'Digraph.gv.svg'"
      ]
     },
     "execution_count": 21,
     "metadata": {},
     "output_type": "execute_result"
    }
   ],
   "source": [
    "rd.pinta(rd.mayorantes(set({2,3})))"
   ]
  },
  {
   "cell_type": "code",
   "execution_count": 22,
   "metadata": {
    "collapsed": false
   },
   "outputs": [
    {
     "data": {
      "text/plain": [
       "{2, 3}"
      ]
     },
     "execution_count": 22,
     "metadata": {},
     "output_type": "execute_result"
    }
   ],
   "source": [
    "rd.minimales(set({2,3}))"
   ]
  },
  {
   "cell_type": "code",
   "execution_count": 23,
   "metadata": {
    "collapsed": false
   },
   "outputs": [
    {
     "data": {
      "text/plain": [
       "2"
      ]
     },
     "execution_count": 23,
     "metadata": {},
     "output_type": "execute_result"
    }
   ],
   "source": [
    "rd.minimo(set({2,4}))"
   ]
  },
  {
   "cell_type": "markdown",
   "metadata": {},
   "source": [
    "## Retículos"
   ]
  },
  {
   "cell_type": "markdown",
   "metadata": {},
   "source": [
    "Continuamos con los divisores de 12"
   ]
  },
  {
   "cell_type": "code",
   "execution_count": 24,
   "metadata": {
    "collapsed": false
   },
   "outputs": [
    {
     "data": {
      "text/plain": [
       "True"
      ]
     },
     "execution_count": 24,
     "metadata": {},
     "output_type": "execute_result"
    }
   ],
   "source": [
    "rd.es_reticulo_inferior()\n"
   ]
  },
  {
   "cell_type": "code",
   "execution_count": 25,
   "metadata": {
    "collapsed": false
   },
   "outputs": [
    {
     "data": {
      "text/plain": [
       "True"
      ]
     },
     "execution_count": 25,
     "metadata": {},
     "output_type": "execute_result"
    }
   ],
   "source": [
    "rd.es_reticulo_superior()"
   ]
  },
  {
   "cell_type": "code",
   "execution_count": 26,
   "metadata": {
    "collapsed": false
   },
   "outputs": [
    {
     "data": {
      "text/plain": [
       "3"
      ]
     },
     "execution_count": 26,
     "metadata": {},
     "output_type": "execute_result"
    }
   ],
   "source": [
    "rd.complemento(4)"
   ]
  },
  {
   "cell_type": "code",
   "execution_count": 27,
   "metadata": {
    "collapsed": false
   },
   "outputs": [
    {
     "data": {
      "text/plain": [
       "1"
      ]
     },
     "execution_count": 27,
     "metadata": {},
     "output_type": "execute_result"
    }
   ],
   "source": [
    "rd.cero"
   ]
  },
  {
   "cell_type": "code",
   "execution_count": 28,
   "metadata": {
    "collapsed": false
   },
   "outputs": [
    {
     "data": {
      "text/plain": [
       "12"
      ]
     },
     "execution_count": 28,
     "metadata": {},
     "output_type": "execute_result"
    }
   ],
   "source": [
    "rd.uno"
   ]
  },
  {
   "cell_type": "code",
   "execution_count": 29,
   "metadata": {
    "collapsed": false
   },
   "outputs": [
    {
     "data": {
      "text/plain": [
       "False"
      ]
     },
     "execution_count": 29,
     "metadata": {},
     "output_type": "execute_result"
    }
   ],
   "source": [
    "rd.es_complementado()"
   ]
  },
  {
   "cell_type": "markdown",
   "metadata": {},
   "source": [
    "Veamos qué elementos no tienen complemento"
   ]
  },
  {
   "cell_type": "code",
   "execution_count": 30,
   "metadata": {
    "collapsed": false
   },
   "outputs": [
    {
     "data": {
      "text/plain": [
       "[2, 6]"
      ]
     },
     "execution_count": 30,
     "metadata": {},
     "output_type": "execute_result"
    }
   ],
   "source": [
    "[a for a in rd.universo if rd.complemento(a)==None]"
   ]
  },
  {
   "cell_type": "markdown",
   "metadata": {},
   "source": [
    "Ahora damos un ejemplo que sí es complementado, de hecho un álgebra de Boole"
   ]
  },
  {
   "cell_type": "code",
   "execution_count": 31,
   "metadata": {
    "collapsed": true
   },
   "outputs": [],
   "source": [
    "u = set(a for a in range(1,31) if 30%a==0)"
   ]
  },
  {
   "cell_type": "code",
   "execution_count": 32,
   "metadata": {
    "collapsed": false
   },
   "outputs": [
    {
     "data": {
      "text/plain": [
       "{1, 2, 3, 5, 6, 10, 15, 30}"
      ]
     },
     "execution_count": 32,
     "metadata": {},
     "output_type": "execute_result"
    }
   ],
   "source": [
    "u"
   ]
  },
  {
   "cell_type": "code",
   "execution_count": 33,
   "metadata": {
    "collapsed": true
   },
   "outputs": [],
   "source": [
    "p = set((a,b) for a in u for b in u if b%a ==0)"
   ]
  },
  {
   "cell_type": "code",
   "execution_count": 34,
   "metadata": {
    "collapsed": true
   },
   "outputs": [],
   "source": [
    "r = relacion(p)"
   ]
  },
  {
   "cell_type": "code",
   "execution_count": 35,
   "metadata": {
    "collapsed": false
   },
   "outputs": [
    {
     "data": {
      "text/plain": [
       "True"
      ]
     },
     "execution_count": 35,
     "metadata": {},
     "output_type": "execute_result"
    }
   ],
   "source": [
    "r.es_distributivo()"
   ]
  },
  {
   "cell_type": "code",
   "execution_count": 36,
   "metadata": {
    "collapsed": false
   },
   "outputs": [
    {
     "data": {
      "text/plain": [
       "{2, 3, 5}"
      ]
     },
     "execution_count": 36,
     "metadata": {},
     "output_type": "execute_result"
    }
   ],
   "source": [
    "r.atomos()"
   ]
  },
  {
   "cell_type": "code",
   "execution_count": 37,
   "metadata": {
    "collapsed": false
   },
   "outputs": [
    {
     "data": {
      "image/svg+xml": [
       "<svg height=\"277pt\" viewBox=\"0.00 0.00 371.34 276.59\" width=\"371pt\" xmlns=\"http://www.w3.org/2000/svg\" xmlns:xlink=\"http://www.w3.org/1999/xlink\">\n",
       "<g class=\"graph\" id=\"graph0\" transform=\"scale(1 1) rotate(0) translate(4 272.593)\">\n",
       "<title>%3</title>\n",
       "<polygon fill=\"white\" points=\"-4,4 -4,-272.593 367.337,-272.593 367.337,4 -4,4\" stroke=\"none\"/>\n",
       "<!-- 2 -->\n",
       "<g class=\"node\" id=\"node1\"><title>2</title>\n",
       "<ellipse cx=\"45.1893\" cy=\"-174.593\" fill=\"none\" rx=\"18\" ry=\"18\" stroke=\"black\"/>\n",
       "<ellipse cx=\"45.1893\" cy=\"-174.593\" fill=\"none\" rx=\"22\" ry=\"22\" stroke=\"black\"/>\n",
       "<text font-family=\"Times,serif\" font-size=\"14.00\" text-anchor=\"middle\" x=\"45.1893\" y=\"-170.893\">2</text>\n",
       "</g>\n",
       "<!-- 2&#45;&gt;2 -->\n",
       "<g class=\"edge\" id=\"edge15\"><title>2-&gt;2</title>\n",
       "<path d=\"M62.8738,-187.716C74.2453,-191.139 85.1893,-186.765 85.1893,-174.593 85.1893,-166.225 80.0165,-161.542 73.0884,-160.545\" fill=\"none\" stroke=\"black\"/>\n",
       "<polygon fill=\"black\" points=\"72.5173,-157.082 62.8738,-161.47 73.1487,-164.054 72.5173,-157.082\" stroke=\"black\"/>\n",
       "</g>\n",
       "<!-- 10 -->\n",
       "<g class=\"node\" id=\"node5\"><title>10</title>\n",
       "<ellipse cx=\"211.189\" cy=\"-96.4446\" fill=\"none\" rx=\"20.2975\" ry=\"20.2975\" stroke=\"black\"/>\n",
       "<text font-family=\"Times,serif\" font-size=\"14.00\" text-anchor=\"middle\" x=\"211.189\" y=\"-92.7446\">10</text>\n",
       "</g>\n",
       "<!-- 2&#45;&gt;10 -->\n",
       "<g class=\"edge\" id=\"edge21\"><title>2-&gt;10</title>\n",
       "<path d=\"M64.8835,-164.559C94.4303,-151.005 150.329,-125.363 183.824,-109.998\" fill=\"none\" stroke=\"black\"/>\n",
       "<polygon fill=\"black\" points=\"185.411,-113.12 193.041,-105.769 182.493,-106.758 185.411,-113.12\" stroke=\"black\"/>\n",
       "</g>\n",
       "<!-- 30 -->\n",
       "<g class=\"node\" id=\"node6\"><title>30</title>\n",
       "<ellipse cx=\"163.189\" cy=\"-20.1482\" fill=\"none\" rx=\"20.2975\" ry=\"20.2975\" stroke=\"black\"/>\n",
       "<text font-family=\"Times,serif\" font-size=\"14.00\" text-anchor=\"middle\" x=\"163.189\" y=\"-16.4482\">30</text>\n",
       "</g>\n",
       "<!-- 2&#45;&gt;30 -->\n",
       "<g class=\"edge\" id=\"edge12\"><title>2-&gt;30</title>\n",
       "<path d=\"M46.587,-152.24C48.9397,-131.071 55.2524,-98.6535 72.1893,-76.2964 88.1028,-55.2903 114.539,-40.5704 134.828,-31.6538\" fill=\"none\" stroke=\"black\"/>\n",
       "<polygon fill=\"black\" points=\"136.337,-34.817 144.222,-27.7406 133.645,-28.3553 136.337,-34.817\" stroke=\"black\"/>\n",
       "</g>\n",
       "<!-- 6 -->\n",
       "<g class=\"node\" id=\"node7\"><title>6</title>\n",
       "<ellipse cx=\"99.1893\" cy=\"-96.4446\" fill=\"none\" rx=\"18\" ry=\"18\" stroke=\"black\"/>\n",
       "<text font-family=\"Times,serif\" font-size=\"14.00\" text-anchor=\"middle\" x=\"99.1893\" y=\"-92.7446\">6</text>\n",
       "</g>\n",
       "<!-- 2&#45;&gt;6 -->\n",
       "<g class=\"edge\" id=\"edge19\"><title>2-&gt;6</title>\n",
       "<path d=\"M57.4427,-156.314C65.0802,-145.544 74.9885,-131.571 83.2354,-119.942\" fill=\"none\" stroke=\"black\"/>\n",
       "<polygon fill=\"black\" points=\"86.2233,-121.779 89.1529,-111.597 80.5133,-117.73 86.2233,-121.779\" stroke=\"black\"/>\n",
       "</g>\n",
       "<!-- 3 -->\n",
       "<g class=\"node\" id=\"node2\"><title>3</title>\n",
       "<ellipse cx=\"163.189\" cy=\"-174.593\" fill=\"none\" rx=\"18\" ry=\"18\" stroke=\"black\"/>\n",
       "<ellipse cx=\"163.189\" cy=\"-174.593\" fill=\"none\" rx=\"22\" ry=\"22\" stroke=\"black\"/>\n",
       "<text font-family=\"Times,serif\" font-size=\"14.00\" text-anchor=\"middle\" x=\"163.189\" y=\"-170.893\">3</text>\n",
       "</g>\n",
       "<!-- 3&#45;&gt;3 -->\n",
       "<g class=\"edge\" id=\"edge9\"><title>3-&gt;3</title>\n",
       "<path d=\"M180.874,-187.716C192.245,-191.139 203.189,-186.765 203.189,-174.593 203.189,-166.225 198.017,-161.542 191.088,-160.545\" fill=\"none\" stroke=\"black\"/>\n",
       "<polygon fill=\"black\" points=\"190.517,-157.082 180.874,-161.47 191.149,-164.054 190.517,-157.082\" stroke=\"black\"/>\n",
       "</g>\n",
       "<!-- 3&#45;&gt;30 -->\n",
       "<g class=\"edge\" id=\"edge20\"><title>3-&gt;30</title>\n",
       "<path d=\"M163.189,-152.396C163.189,-126.019 163.189,-80.8189 163.189,-50.9602\" fill=\"none\" stroke=\"black\"/>\n",
       "<polygon fill=\"black\" points=\"166.689,-50.717 163.189,-40.717 159.689,-50.717 166.689,-50.717\" stroke=\"black\"/>\n",
       "</g>\n",
       "<!-- 3&#45;&gt;6 -->\n",
       "<g class=\"edge\" id=\"edge14\"><title>3-&gt;6</title>\n",
       "<path d=\"M149.302,-157.07C139.863,-145.839 127.289,-130.878 117.098,-118.752\" fill=\"none\" stroke=\"black\"/>\n",
       "<polygon fill=\"black\" points=\"119.604,-116.295 110.491,-110.891 114.245,-120.799 119.604,-116.295\" stroke=\"black\"/>\n",
       "</g>\n",
       "<!-- 15 -->\n",
       "<g class=\"node\" id=\"node8\"><title>15</title>\n",
       "<ellipse cx=\"325.189\" cy=\"-96.4446\" fill=\"none\" rx=\"20.2975\" ry=\"20.2975\" stroke=\"black\"/>\n",
       "<text font-family=\"Times,serif\" font-size=\"14.00\" text-anchor=\"middle\" x=\"325.189\" y=\"-92.7446\">15</text>\n",
       "</g>\n",
       "<!-- 3&#45;&gt;15 -->\n",
       "<g class=\"edge\" id=\"edge1\"><title>3-&gt;15</title>\n",
       "<path d=\"M182.73,-164.408C211.406,-150.929 265.012,-125.731 297.663,-110.383\" fill=\"none\" stroke=\"black\"/>\n",
       "<polygon fill=\"black\" points=\"299.511,-113.382 307.072,-105.96 296.533,-107.047 299.511,-113.382\" stroke=\"black\"/>\n",
       "</g>\n",
       "<!-- 5 -->\n",
       "<g class=\"node\" id=\"node3\"><title>5</title>\n",
       "<ellipse cx=\"281.189\" cy=\"-174.593\" fill=\"none\" rx=\"18\" ry=\"18\" stroke=\"black\"/>\n",
       "<ellipse cx=\"281.189\" cy=\"-174.593\" fill=\"none\" rx=\"22\" ry=\"22\" stroke=\"black\"/>\n",
       "<text font-family=\"Times,serif\" font-size=\"14.00\" text-anchor=\"middle\" x=\"281.189\" y=\"-170.893\">5</text>\n",
       "</g>\n",
       "<!-- 5&#45;&gt;5 -->\n",
       "<g class=\"edge\" id=\"edge10\"><title>5-&gt;5</title>\n",
       "<path d=\"M298.874,-187.716C310.245,-191.139 321.189,-186.765 321.189,-174.593 321.189,-166.225 316.017,-161.542 309.088,-160.545\" fill=\"none\" stroke=\"black\"/>\n",
       "<polygon fill=\"black\" points=\"308.517,-157.082 298.874,-161.47 309.149,-164.054 308.517,-157.082\" stroke=\"black\"/>\n",
       "</g>\n",
       "<!-- 5&#45;&gt;10 -->\n",
       "<g class=\"edge\" id=\"edge24\"><title>5-&gt;10</title>\n",
       "<path d=\"M266.685,-157.815C256.502,-146.737 242.744,-131.771 231.475,-119.512\" fill=\"none\" stroke=\"black\"/>\n",
       "<polygon fill=\"black\" points=\"233.835,-116.908 224.491,-111.915 228.682,-121.645 233.835,-116.908\" stroke=\"black\"/>\n",
       "</g>\n",
       "<!-- 5&#45;&gt;30 -->\n",
       "<g class=\"edge\" id=\"edge7\"><title>5-&gt;30</title>\n",
       "<path d=\"M280.894,-152.216C279.587,-131.028 274.741,-98.5971 258.189,-76.2964 241.706,-54.0867 213.408,-39.3418 191.973,-30.732\" fill=\"none\" stroke=\"black\"/>\n",
       "<polygon fill=\"black\" points=\"192.971,-27.3673 182.38,-27.0976 190.491,-33.9133 192.971,-27.3673\" stroke=\"black\"/>\n",
       "</g>\n",
       "<!-- 5&#45;&gt;15 -->\n",
       "<g class=\"edge\" id=\"edge23\"><title>5-&gt;15</title>\n",
       "<path d=\"M291.84,-155.159C297.427,-145.491 304.358,-133.496 310.452,-122.95\" fill=\"none\" stroke=\"black\"/>\n",
       "<polygon fill=\"black\" points=\"313.564,-124.559 315.537,-114.15 307.503,-121.057 313.564,-124.559\" stroke=\"black\"/>\n",
       "</g>\n",
       "<!-- 1 -->\n",
       "<g class=\"node\" id=\"node4\"><title>1</title>\n",
       "<ellipse cx=\"163.189\" cy=\"-250.593\" fill=\"none\" rx=\"18\" ry=\"18\" stroke=\"black\"/>\n",
       "<text font-family=\"Times,serif\" font-size=\"14.00\" text-anchor=\"middle\" x=\"163.189\" y=\"-246.893\">1</text>\n",
       "</g>\n",
       "<!-- 1&#45;&gt;2 -->\n",
       "<g class=\"edge\" id=\"edge6\"><title>1-&gt;2</title>\n",
       "<path d=\"M148.244,-240.221C129.108,-228.22 95.6046,-207.209 72.0033,-192.408\" fill=\"none\" stroke=\"black\"/>\n",
       "<polygon fill=\"black\" points=\"73.8247,-189.419 63.4933,-187.072 70.1057,-195.35 73.8247,-189.419\" stroke=\"black\"/>\n",
       "</g>\n",
       "<!-- 1&#45;&gt;3 -->\n",
       "<g class=\"edge\" id=\"edge2\"><title>1-&gt;3</title>\n",
       "<path d=\"M163.189,-232.43C163.189,-224.758 163.189,-215.47 163.189,-206.646\" fill=\"none\" stroke=\"black\"/>\n",
       "<polygon fill=\"black\" points=\"166.689,-206.625 163.189,-196.625 159.689,-206.625 166.689,-206.625\" stroke=\"black\"/>\n",
       "</g>\n",
       "<!-- 1&#45;&gt;5 -->\n",
       "<g class=\"edge\" id=\"edge13\"><title>1-&gt;5</title>\n",
       "<path d=\"M178.134,-240.221C197.271,-228.22 230.774,-207.209 254.375,-192.408\" fill=\"none\" stroke=\"black\"/>\n",
       "<polygon fill=\"black\" points=\"256.273,-195.35 262.885,-187.072 252.554,-189.419 256.273,-195.35\" stroke=\"black\"/>\n",
       "</g>\n",
       "<!-- 1&#45;&gt;1 -->\n",
       "<g class=\"edge\" id=\"edge17\"><title>1-&gt;1</title>\n",
       "<path d=\"M176.856,-262.839C187.846,-267.737 199.189,-263.655 199.189,-250.593 199.189,-241.612 193.828,-236.877 186.906,-236.385\" fill=\"none\" stroke=\"black\"/>\n",
       "<polygon fill=\"black\" points=\"186.001,-232.996 176.856,-238.347 187.342,-239.866 186.001,-232.996\" stroke=\"black\"/>\n",
       "</g>\n",
       "<!-- 1&#45;&gt;10 -->\n",
       "<g class=\"edge\" id=\"edge16\"><title>1-&gt;10</title>\n",
       "<path d=\"M177.442,-239.241C189.274,-229.689 205.246,-214.33 212.189,-196.593 220.952,-174.206 219.857,-146.738 217.051,-126.395\" fill=\"none\" stroke=\"black\"/>\n",
       "<polygon fill=\"black\" points=\"220.5,-125.796 215.471,-116.47 213.587,-126.896 220.5,-125.796\" stroke=\"black\"/>\n",
       "</g>\n",
       "<!-- 1&#45;&gt;30 -->\n",
       "<g class=\"edge\" id=\"edge27\"><title>1-&gt;30</title>\n",
       "<path d=\"M145.098,-249.364C112.485,-247.854 44.4249,-239.439 14.1893,-196.593 -17.9153,-151.098 10.2212,-116.071 49.1893,-76.2964 72.7197,-52.2793 108.819,-37.2765 134.074,-29.0889\" fill=\"none\" stroke=\"black\"/>\n",
       "<polygon fill=\"black\" points=\"135.304,-32.3723 143.834,-26.0871 133.247,-25.6816 135.304,-32.3723\" stroke=\"black\"/>\n",
       "</g>\n",
       "<!-- 1&#45;&gt;6 -->\n",
       "<g class=\"edge\" id=\"edge5\"><title>1-&gt;6</title>\n",
       "<path d=\"M153.655,-235.182C147.04,-224.764 138.346,-210.187 132.189,-196.593 121.354,-172.669 112.22,-144.097 106.329,-123.784\" fill=\"none\" stroke=\"black\"/>\n",
       "<polygon fill=\"black\" points=\"109.645,-122.65 103.552,-113.983 102.911,-124.559 109.645,-122.65\" stroke=\"black\"/>\n",
       "</g>\n",
       "<!-- 1&#45;&gt;15 -->\n",
       "<g class=\"edge\" id=\"edge4\"><title>1-&gt;15</title>\n",
       "<path d=\"M181.423,-250.153C217.002,-250.127 295.25,-244.338 330.189,-196.593 345.127,-176.181 341.294,-146.588 335.304,-125.049\" fill=\"none\" stroke=\"black\"/>\n",
       "<polygon fill=\"black\" points=\"338.648,-124.017 332.361,-115.489 331.958,-126.077 338.648,-124.017\" stroke=\"black\"/>\n",
       "</g>\n",
       "<!-- 10&#45;&gt;10 -->\n",
       "<g class=\"edge\" id=\"edge25\"><title>10-&gt;10</title>\n",
       "<path d=\"M226.864,-109.16C238.122,-113.3 249.337,-109.062 249.337,-96.4446 249.337,-87.7703 244.037,-83.0562 237.065,-82.3023\" fill=\"none\" stroke=\"black\"/>\n",
       "<polygon fill=\"black\" points=\"236.282,-78.8776 226.864,-83.7289 237.252,-85.8101 236.282,-78.8776\" stroke=\"black\"/>\n",
       "</g>\n",
       "<!-- 10&#45;&gt;30 -->\n",
       "<g class=\"edge\" id=\"edge8\"><title>10-&gt;30</title>\n",
       "<path d=\"M200.537,-78.9559C194.322,-69.337 186.357,-57.0084 179.38,-46.2093\" fill=\"none\" stroke=\"black\"/>\n",
       "<polygon fill=\"black\" points=\"182.179,-44.0911 173.812,-37.5909 176.299,-47.8898 182.179,-44.0911\" stroke=\"black\"/>\n",
       "</g>\n",
       "<!-- 30&#45;&gt;30 -->\n",
       "<g class=\"edge\" id=\"edge26\"><title>30-&gt;30</title>\n",
       "<path d=\"M178.864,-32.864C190.122,-37.004 201.337,-32.7654 201.337,-20.1482 201.337,-11.4739 196.037,-6.75978 189.065,-6.00586\" fill=\"none\" stroke=\"black\"/>\n",
       "<polygon fill=\"black\" points=\"188.282,-2.58115 178.864,-7.43245 189.252,-9.51369 188.282,-2.58115\" stroke=\"black\"/>\n",
       "</g>\n",
       "<!-- 6&#45;&gt;30 -->\n",
       "<g class=\"edge\" id=\"edge22\"><title>6-&gt;30</title>\n",
       "<path d=\"M110.631,-82.1619C119.833,-71.4794 132.969,-56.2308 143.806,-43.6504\" fill=\"none\" stroke=\"black\"/>\n",
       "<polygon fill=\"black\" points=\"146.656,-45.7043 150.531,-35.8434 141.352,-41.1357 146.656,-45.7043\" stroke=\"black\"/>\n",
       "</g>\n",
       "<!-- 6&#45;&gt;6 -->\n",
       "<g class=\"edge\" id=\"edge3\"><title>6-&gt;6</title>\n",
       "<path d=\"M112.856,-108.691C123.846,-113.589 135.189,-109.507 135.189,-96.4446 135.189,-87.4642 129.828,-82.7284 122.906,-82.2373\" fill=\"none\" stroke=\"black\"/>\n",
       "<polygon fill=\"black\" points=\"122.001,-78.8477 112.856,-84.1985 123.342,-85.7181 122.001,-78.8477\" stroke=\"black\"/>\n",
       "</g>\n",
       "<!-- 15&#45;&gt;30 -->\n",
       "<g class=\"edge\" id=\"edge11\"><title>15-&gt;30</title>\n",
       "<path d=\"M308.083,-85.3436C302.736,-82.3135 296.774,-79.0626 291.189,-76.2964 257.35,-59.5366 217.199,-42.716 191.008,-32.1372\" fill=\"none\" stroke=\"black\"/>\n",
       "<polygon fill=\"black\" points=\"192.281,-28.8764 181.696,-28.4015 189.674,-35.3732 192.281,-28.8764\" stroke=\"black\"/>\n",
       "</g>\n",
       "<!-- 15&#45;&gt;15 -->\n",
       "<g class=\"edge\" id=\"edge18\"><title>15-&gt;15</title>\n",
       "<path d=\"M340.864,-109.16C352.122,-113.3 363.337,-109.062 363.337,-96.4446 363.337,-87.7703 358.037,-83.0562 351.065,-82.3023\" fill=\"none\" stroke=\"black\"/>\n",
       "<polygon fill=\"black\" points=\"350.282,-78.8776 340.864,-83.7289 351.252,-85.8101 350.282,-78.8776\" stroke=\"black\"/>\n",
       "</g>\n",
       "</g>\n",
       "</svg>"
      ],
      "text/plain": [
       "<IPython.core.display.SVG object>"
      ]
     },
     "metadata": {},
     "output_type": "display_data"
    },
    {
     "data": {
      "text/plain": [
       "'Digraph.gv.svg'"
      ]
     },
     "execution_count": 37,
     "metadata": {},
     "output_type": "execute_result"
    }
   ],
   "source": [
    "r.pinta(r.atomos())"
   ]
  },
  {
   "cell_type": "markdown",
   "metadata": {},
   "source": [
    "## Retículos de divisores "
   ]
  },
  {
   "cell_type": "markdown",
   "metadata": {},
   "source": [
    "Podemos definir retículos con los divisores de un entero o bien dar un conjunto ordenado por la relación de divisibilidad. Para ellos utilizaremos `divisores`"
   ]
  },
  {
   "cell_type": "code",
   "execution_count": 38,
   "metadata": {
    "collapsed": true
   },
   "outputs": [],
   "source": [
    "r = divisores(24)"
   ]
  },
  {
   "cell_type": "code",
   "execution_count": 39,
   "metadata": {
    "collapsed": false
   },
   "outputs": [
    {
     "data": {
      "image/svg+xml": [
       "<svg height=\"332pt\" viewBox=\"0.00 0.00 134.00 332.00\" width=\"134pt\" xmlns=\"http://www.w3.org/2000/svg\" xmlns:xlink=\"http://www.w3.org/1999/xlink\">\n",
       "<g class=\"graph\" id=\"graph0\" transform=\"scale(1 1) rotate(0) translate(4 328)\">\n",
       "<title>%3</title>\n",
       "<polygon fill=\"white\" points=\"-4,4 -4,-328 130,-328 130,4 -4,4\" stroke=\"none\"/>\n",
       "<!-- 1 -->\n",
       "<g class=\"node\" id=\"node1\"><title>1</title>\n",
       "<ellipse cx=\"63\" cy=\"-18\" fill=\"none\" rx=\"27\" ry=\"18\" stroke=\"black\"/>\n",
       "<text font-family=\"Times,serif\" font-size=\"14.00\" text-anchor=\"middle\" x=\"63\" y=\"-14.3\">1</text>\n",
       "</g>\n",
       "<!-- 2 -->\n",
       "<g class=\"node\" id=\"node2\"><title>2</title>\n",
       "<ellipse cx=\"27\" cy=\"-90\" fill=\"none\" rx=\"27\" ry=\"18\" stroke=\"black\"/>\n",
       "<text font-family=\"Times,serif\" font-size=\"14.00\" text-anchor=\"middle\" x=\"27\" y=\"-86.3\">2</text>\n",
       "</g>\n",
       "<!-- 2&#45;&#45;1 -->\n",
       "<g class=\"edge\" id=\"edge1\"><title>2--1</title>\n",
       "<path d=\"M35.3496,-72.7646C41.1655,-61.456 48.8897,-46.4367 54.6957,-35.1473\" fill=\"none\" stroke=\"black\"/>\n",
       "</g>\n",
       "<!-- 3 -->\n",
       "<g class=\"node\" id=\"node3\"><title>3</title>\n",
       "<ellipse cx=\"99\" cy=\"-90\" fill=\"none\" rx=\"27\" ry=\"18\" stroke=\"black\"/>\n",
       "<text font-family=\"Times,serif\" font-size=\"14.00\" text-anchor=\"middle\" x=\"99\" y=\"-86.3\">3</text>\n",
       "</g>\n",
       "<!-- 3&#45;&#45;1 -->\n",
       "<g class=\"edge\" id=\"edge3\"><title>3--1</title>\n",
       "<path d=\"M90.6504,-72.7646C84.8345,-61.456 77.1103,-46.4367 71.3043,-35.1473\" fill=\"none\" stroke=\"black\"/>\n",
       "</g>\n",
       "<!-- 4 -->\n",
       "<g class=\"node\" id=\"node4\"><title>4</title>\n",
       "<ellipse cx=\"27\" cy=\"-162\" fill=\"none\" rx=\"27\" ry=\"18\" stroke=\"black\"/>\n",
       "<text font-family=\"Times,serif\" font-size=\"14.00\" text-anchor=\"middle\" x=\"27\" y=\"-158.3\">4</text>\n",
       "</g>\n",
       "<!-- 4&#45;&#45;2 -->\n",
       "<g class=\"edge\" id=\"edge10\"><title>4--2</title>\n",
       "<path d=\"M27,-143.697C27,-132.846 27,-118.917 27,-108.104\" fill=\"none\" stroke=\"black\"/>\n",
       "</g>\n",
       "<!-- 6 -->\n",
       "<g class=\"node\" id=\"node5\"><title>6</title>\n",
       "<ellipse cx=\"99\" cy=\"-162\" fill=\"none\" rx=\"27\" ry=\"18\" stroke=\"black\"/>\n",
       "<text font-family=\"Times,serif\" font-size=\"14.00\" text-anchor=\"middle\" x=\"99\" y=\"-158.3\">6</text>\n",
       "</g>\n",
       "<!-- 6&#45;&#45;2 -->\n",
       "<g class=\"edge\" id=\"edge4\"><title>6--2</title>\n",
       "<path d=\"M84.4297,-146.834C72.0202,-134.77 54.2694,-117.512 41.7957,-105.385\" fill=\"none\" stroke=\"black\"/>\n",
       "</g>\n",
       "<!-- 6&#45;&#45;3 -->\n",
       "<g class=\"edge\" id=\"edge8\"><title>6--3</title>\n",
       "<path d=\"M99,-143.697C99,-132.846 99,-118.917 99,-108.104\" fill=\"none\" stroke=\"black\"/>\n",
       "</g>\n",
       "<!-- 8 -->\n",
       "<g class=\"node\" id=\"node6\"><title>8</title>\n",
       "<ellipse cx=\"27\" cy=\"-234\" fill=\"none\" rx=\"27\" ry=\"18\" stroke=\"black\"/>\n",
       "<text font-family=\"Times,serif\" font-size=\"14.00\" text-anchor=\"middle\" x=\"27\" y=\"-230.3\">8</text>\n",
       "</g>\n",
       "<!-- 8&#45;&#45;4 -->\n",
       "<g class=\"edge\" id=\"edge5\"><title>8--4</title>\n",
       "<path d=\"M27,-215.697C27,-204.846 27,-190.917 27,-180.104\" fill=\"none\" stroke=\"black\"/>\n",
       "</g>\n",
       "<!-- 12 -->\n",
       "<g class=\"node\" id=\"node7\"><title>12</title>\n",
       "<ellipse cx=\"99\" cy=\"-234\" fill=\"none\" rx=\"27\" ry=\"18\" stroke=\"black\"/>\n",
       "<text font-family=\"Times,serif\" font-size=\"14.00\" text-anchor=\"middle\" x=\"99\" y=\"-230.3\">12</text>\n",
       "</g>\n",
       "<!-- 12&#45;&#45;4 -->\n",
       "<g class=\"edge\" id=\"edge7\"><title>12--4</title>\n",
       "<path d=\"M84.4297,-218.834C72.0202,-206.77 54.2694,-189.512 41.7957,-177.385\" fill=\"none\" stroke=\"black\"/>\n",
       "</g>\n",
       "<!-- 12&#45;&#45;6 -->\n",
       "<g class=\"edge\" id=\"edge9\"><title>12--6</title>\n",
       "<path d=\"M99,-215.697C99,-204.846 99,-190.917 99,-180.104\" fill=\"none\" stroke=\"black\"/>\n",
       "</g>\n",
       "<!-- 24 -->\n",
       "<g class=\"node\" id=\"node8\"><title>24</title>\n",
       "<ellipse cx=\"63\" cy=\"-306\" fill=\"none\" rx=\"27\" ry=\"18\" stroke=\"black\"/>\n",
       "<text font-family=\"Times,serif\" font-size=\"14.00\" text-anchor=\"middle\" x=\"63\" y=\"-302.3\">24</text>\n",
       "</g>\n",
       "<!-- 24&#45;&#45;8 -->\n",
       "<g class=\"edge\" id=\"edge2\"><title>24--8</title>\n",
       "<path d=\"M54.6504,-288.765C48.8345,-277.456 41.1103,-262.437 35.3043,-251.147\" fill=\"none\" stroke=\"black\"/>\n",
       "</g>\n",
       "<!-- 24&#45;&#45;12 -->\n",
       "<g class=\"edge\" id=\"edge6\"><title>24--12</title>\n",
       "<path d=\"M71.3496,-288.765C77.1655,-277.456 84.8897,-262.437 90.6957,-251.147\" fill=\"none\" stroke=\"black\"/>\n",
       "</g>\n",
       "</g>\n",
       "</svg>"
      ],
      "text/plain": [
       "<IPython.core.display.SVG object>"
      ]
     },
     "metadata": {},
     "output_type": "display_data"
    },
    {
     "data": {
      "text/plain": [
       "Relación binaria"
      ]
     },
     "execution_count": 39,
     "metadata": {},
     "output_type": "execute_result"
    }
   ],
   "source": [
    "r.hasse()"
   ]
  },
  {
   "cell_type": "code",
   "execution_count": 40,
   "metadata": {
    "collapsed": false
   },
   "outputs": [
    {
     "data": {
      "text/plain": [
       "{(1, 2),\n",
       " (1, 3),\n",
       " (2, 4),\n",
       " (2, 6),\n",
       " (3, 6),\n",
       " (4, 8),\n",
       " (4, 12),\n",
       " (6, 12),\n",
       " (8, 24),\n",
       " (12, 24)}"
      ]
     },
     "execution_count": 40,
     "metadata": {},
     "output_type": "execute_result"
    }
   ],
   "source": [
    "_.rels"
   ]
  },
  {
   "cell_type": "code",
   "execution_count": 41,
   "metadata": {
    "collapsed": false
   },
   "outputs": [],
   "source": [
    "r = divisores({0,1,2,3,5})"
   ]
  },
  {
   "cell_type": "code",
   "execution_count": 42,
   "metadata": {
    "collapsed": false
   },
   "outputs": [
    {
     "data": {
      "image/svg+xml": [
       "<svg height=\"188pt\" viewBox=\"0.00 0.00 274.71 188.00\" width=\"275pt\" xmlns=\"http://www.w3.org/2000/svg\" xmlns:xlink=\"http://www.w3.org/1999/xlink\">\n",
       "<g class=\"graph\" id=\"graph0\" transform=\"scale(1 1) rotate(0) translate(4 184)\">\n",
       "<title>%3</title>\n",
       "<polygon fill=\"white\" points=\"-4,4 -4,-184 270.708,-184 270.708,4 -4,4\" stroke=\"none\"/>\n",
       "<!-- 0 -->\n",
       "<g class=\"node\" id=\"node1\"><title>0</title>\n",
       "<ellipse cx=\"86.7077\" cy=\"-18\" fill=\"none\" rx=\"27\" ry=\"18\" stroke=\"black\"/>\n",
       "<text font-family=\"Times,serif\" font-size=\"14.00\" text-anchor=\"middle\" x=\"86.7077\" y=\"-14.3\">0</text>\n",
       "</g>\n",
       "<!-- 0&#45;&gt;0 -->\n",
       "<g class=\"edge\" id=\"edge2\"><title>0-&gt;0</title>\n",
       "<path d=\"M106.603,-30.4321C119.396,-33.6753 131.708,-29.5312 131.708,-18 131.708,-9.62183 125.208,-5.14331 116.747,-4.56444\" fill=\"none\" stroke=\"black\"/>\n",
       "<polygon fill=\"black\" points=\"116.21,-1.10045 106.603,-5.56787 116.899,-8.06645 116.21,-1.10045\" stroke=\"black\"/>\n",
       "</g>\n",
       "<!-- 1 -->\n",
       "<g class=\"node\" id=\"node2\"><title>1</title>\n",
       "<ellipse cx=\"86.7077\" cy=\"-162\" fill=\"none\" rx=\"27\" ry=\"18\" stroke=\"black\"/>\n",
       "<text font-family=\"Times,serif\" font-size=\"14.00\" text-anchor=\"middle\" x=\"86.7077\" y=\"-158.3\">1</text>\n",
       "</g>\n",
       "<!-- 1&#45;&gt;0 -->\n",
       "<g class=\"edge\" id=\"edge11\"><title>1-&gt;0</title>\n",
       "<path d=\"M63.0978,-152.831C43.79,-144.75 17.7777,-130.322 5.70771,-108 -1.90257,-93.9258 -1.90257,-86.0742 5.70771,-72 15.8917,-53.166 36.0015,-39.9513 53.635,-31.4275\" fill=\"none\" stroke=\"black\"/>\n",
       "<polygon fill=\"black\" points=\"55.4151,-34.4646 63.0978,-27.1688 52.5423,-28.0812 55.4151,-34.4646\" stroke=\"black\"/>\n",
       "</g>\n",
       "<!-- 1&#45;&gt;1 -->\n",
       "<g class=\"edge\" id=\"edge12\"><title>1-&gt;1</title>\n",
       "<path d=\"M106.603,-174.432C119.396,-177.675 131.708,-173.531 131.708,-162 131.708,-153.622 125.208,-149.143 116.747,-148.564\" fill=\"none\" stroke=\"black\"/>\n",
       "<polygon fill=\"black\" points=\"116.21,-145.1 106.603,-149.568 116.899,-152.066 116.21,-145.1\" stroke=\"black\"/>\n",
       "</g>\n",
       "<!-- 2 -->\n",
       "<g class=\"node\" id=\"node3\"><title>2</title>\n",
       "<ellipse cx=\"41.7077\" cy=\"-90\" fill=\"none\" rx=\"27\" ry=\"18\" stroke=\"black\"/>\n",
       "<text font-family=\"Times,serif\" font-size=\"14.00\" text-anchor=\"middle\" x=\"41.7077\" y=\"-86.3\">2</text>\n",
       "</g>\n",
       "<!-- 1&#45;&gt;2 -->\n",
       "<g class=\"edge\" id=\"edge1\"><title>1-&gt;2</title>\n",
       "<path d=\"M76.4965,-145.116C70.8581,-136.345 63.7344,-125.264 57.4039,-115.416\" fill=\"none\" stroke=\"black\"/>\n",
       "<polygon fill=\"black\" points=\"60.2303,-113.34 51.8785,-106.821 54.342,-117.126 60.2303,-113.34\" stroke=\"black\"/>\n",
       "</g>\n",
       "<!-- 3 -->\n",
       "<g class=\"node\" id=\"node4\"><title>3</title>\n",
       "<ellipse cx=\"131.708\" cy=\"-90\" fill=\"none\" rx=\"27\" ry=\"18\" stroke=\"black\"/>\n",
       "<text font-family=\"Times,serif\" font-size=\"14.00\" text-anchor=\"middle\" x=\"131.708\" y=\"-86.3\">3</text>\n",
       "</g>\n",
       "<!-- 1&#45;&gt;3 -->\n",
       "<g class=\"edge\" id=\"edge3\"><title>1-&gt;3</title>\n",
       "<path d=\"M96.9189,-145.116C102.557,-136.345 109.681,-125.264 116.012,-115.416\" fill=\"none\" stroke=\"black\"/>\n",
       "<polygon fill=\"black\" points=\"119.073,-117.126 121.537,-106.821 113.185,-113.34 119.073,-117.126\" stroke=\"black\"/>\n",
       "</g>\n",
       "<!-- 5 -->\n",
       "<g class=\"node\" id=\"node5\"><title>5</title>\n",
       "<ellipse cx=\"221.708\" cy=\"-90\" fill=\"none\" rx=\"27\" ry=\"18\" stroke=\"black\"/>\n",
       "<text font-family=\"Times,serif\" font-size=\"14.00\" text-anchor=\"middle\" x=\"221.708\" y=\"-86.3\">5</text>\n",
       "</g>\n",
       "<!-- 1&#45;&gt;5 -->\n",
       "<g class=\"edge\" id=\"edge7\"><title>1-&gt;5</title>\n",
       "<path d=\"M107.506,-150.216C130.166,-138.466 166.599,-119.575 192.208,-106.296\" fill=\"none\" stroke=\"black\"/>\n",
       "<polygon fill=\"black\" points=\"193.841,-109.392 201.108,-101.681 190.619,-103.178 193.841,-109.392\" stroke=\"black\"/>\n",
       "</g>\n",
       "<!-- 2&#45;&gt;0 -->\n",
       "<g class=\"edge\" id=\"edge8\"><title>2-&gt;0</title>\n",
       "<path d=\"M51.9189,-73.1159C57.5574,-64.345 64.6811,-53.2637 71.0116,-43.4162\" fill=\"none\" stroke=\"black\"/>\n",
       "<polygon fill=\"black\" points=\"74.0734,-45.1257 76.5369,-34.8212 68.1852,-41.3404 74.0734,-45.1257\" stroke=\"black\"/>\n",
       "</g>\n",
       "<!-- 2&#45;&gt;2 -->\n",
       "<g class=\"edge\" id=\"edge10\"><title>2-&gt;2</title>\n",
       "<path d=\"M61.6028,-102.432C74.3957,-105.675 86.7077,-101.531 86.7077,-90 86.7077,-81.6218 80.2083,-77.1433 71.7472,-76.5644\" fill=\"none\" stroke=\"black\"/>\n",
       "<polygon fill=\"black\" points=\"71.2096,-73.1004 61.6028,-77.5679 71.8987,-80.0665 71.2096,-73.1004\" stroke=\"black\"/>\n",
       "</g>\n",
       "<!-- 3&#45;&gt;0 -->\n",
       "<g class=\"edge\" id=\"edge6\"><title>3-&gt;0</title>\n",
       "<path d=\"M121.497,-73.1159C115.858,-64.345 108.734,-53.2637 102.404,-43.4162\" fill=\"none\" stroke=\"black\"/>\n",
       "<polygon fill=\"black\" points=\"105.23,-41.3404 96.8785,-34.8212 99.342,-45.1257 105.23,-41.3404\" stroke=\"black\"/>\n",
       "</g>\n",
       "<!-- 3&#45;&gt;3 -->\n",
       "<g class=\"edge\" id=\"edge4\"><title>3-&gt;3</title>\n",
       "<path d=\"M151.603,-102.432C164.396,-105.675 176.708,-101.531 176.708,-90 176.708,-81.6218 170.208,-77.1433 161.747,-76.5644\" fill=\"none\" stroke=\"black\"/>\n",
       "<polygon fill=\"black\" points=\"161.21,-73.1004 151.603,-77.5679 161.899,-80.0665 161.21,-73.1004\" stroke=\"black\"/>\n",
       "</g>\n",
       "<!-- 5&#45;&gt;0 -->\n",
       "<g class=\"edge\" id=\"edge9\"><title>5-&gt;0</title>\n",
       "<path d=\"M200.91,-78.2159C178.25,-66.4662 141.816,-47.5749 116.207,-34.2961\" fill=\"none\" stroke=\"black\"/>\n",
       "<polygon fill=\"black\" points=\"117.796,-31.1776 107.308,-29.6815 114.574,-37.3918 117.796,-31.1776\" stroke=\"black\"/>\n",
       "</g>\n",
       "<!-- 5&#45;&gt;5 -->\n",
       "<g class=\"edge\" id=\"edge5\"><title>5-&gt;5</title>\n",
       "<path d=\"M241.603,-102.432C254.396,-105.675 266.708,-101.531 266.708,-90 266.708,-81.6218 260.208,-77.1433 251.747,-76.5644\" fill=\"none\" stroke=\"black\"/>\n",
       "<polygon fill=\"black\" points=\"251.21,-73.1004 241.603,-77.5679 251.899,-80.0665 251.21,-73.1004\" stroke=\"black\"/>\n",
       "</g>\n",
       "</g>\n",
       "</svg>"
      ],
      "text/plain": [
       "<IPython.core.display.SVG object>"
      ]
     },
     "metadata": {},
     "output_type": "display_data"
    },
    {
     "data": {
      "text/plain": [
       "'Digraph.gv.svg'"
      ]
     },
     "execution_count": 42,
     "metadata": {},
     "output_type": "execute_result"
    }
   ],
   "source": [
    "r.pinta()"
   ]
  },
  {
   "cell_type": "code",
   "execution_count": 43,
   "metadata": {
    "collapsed": false
   },
   "outputs": [
    {
     "data": {
      "image/svg+xml": [
       "<svg height=\"188pt\" viewBox=\"0.00 0.00 206.00 188.00\" width=\"206pt\" xmlns=\"http://www.w3.org/2000/svg\" xmlns:xlink=\"http://www.w3.org/1999/xlink\">\n",
       "<g class=\"graph\" id=\"graph0\" transform=\"scale(1 1) rotate(0) translate(4 184)\">\n",
       "<title>%3</title>\n",
       "<polygon fill=\"white\" points=\"-4,4 -4,-184 202,-184 202,4 -4,4\" stroke=\"none\"/>\n",
       "<!-- 0 -->\n",
       "<g class=\"node\" id=\"node1\"><title>0</title>\n",
       "<ellipse cx=\"99\" cy=\"-162\" fill=\"none\" rx=\"27\" ry=\"18\" stroke=\"black\"/>\n",
       "<text font-family=\"Times,serif\" font-size=\"14.00\" text-anchor=\"middle\" x=\"99\" y=\"-158.3\">0</text>\n",
       "</g>\n",
       "<!-- 2 -->\n",
       "<g class=\"node\" id=\"node3\"><title>2</title>\n",
       "<ellipse cx=\"27\" cy=\"-90\" fill=\"none\" rx=\"27\" ry=\"18\" stroke=\"black\"/>\n",
       "<text font-family=\"Times,serif\" font-size=\"14.00\" text-anchor=\"middle\" x=\"27\" y=\"-86.3\">2</text>\n",
       "</g>\n",
       "<!-- 0&#45;&#45;2 -->\n",
       "<g class=\"edge\" id=\"edge5\"><title>0--2</title>\n",
       "<path d=\"M84.4297,-146.834C72.0202,-134.77 54.2694,-117.512 41.7957,-105.385\" fill=\"none\" stroke=\"black\"/>\n",
       "</g>\n",
       "<!-- 3 -->\n",
       "<g class=\"node\" id=\"node4\"><title>3</title>\n",
       "<ellipse cx=\"99\" cy=\"-90\" fill=\"none\" rx=\"27\" ry=\"18\" stroke=\"black\"/>\n",
       "<text font-family=\"Times,serif\" font-size=\"14.00\" text-anchor=\"middle\" x=\"99\" y=\"-86.3\">3</text>\n",
       "</g>\n",
       "<!-- 0&#45;&#45;3 -->\n",
       "<g class=\"edge\" id=\"edge3\"><title>0--3</title>\n",
       "<path d=\"M99,-143.697C99,-132.846 99,-118.917 99,-108.104\" fill=\"none\" stroke=\"black\"/>\n",
       "</g>\n",
       "<!-- 5 -->\n",
       "<g class=\"node\" id=\"node5\"><title>5</title>\n",
       "<ellipse cx=\"171\" cy=\"-90\" fill=\"none\" rx=\"27\" ry=\"18\" stroke=\"black\"/>\n",
       "<text font-family=\"Times,serif\" font-size=\"14.00\" text-anchor=\"middle\" x=\"171\" y=\"-86.3\">5</text>\n",
       "</g>\n",
       "<!-- 0&#45;&#45;5 -->\n",
       "<g class=\"edge\" id=\"edge6\"><title>0--5</title>\n",
       "<path d=\"M113.57,-146.834C125.98,-134.77 143.731,-117.512 156.204,-105.385\" fill=\"none\" stroke=\"black\"/>\n",
       "</g>\n",
       "<!-- 1 -->\n",
       "<g class=\"node\" id=\"node2\"><title>1</title>\n",
       "<ellipse cx=\"99\" cy=\"-18\" fill=\"none\" rx=\"27\" ry=\"18\" stroke=\"black\"/>\n",
       "<text font-family=\"Times,serif\" font-size=\"14.00\" text-anchor=\"middle\" x=\"99\" y=\"-14.3\">1</text>\n",
       "</g>\n",
       "<!-- 2&#45;&#45;1 -->\n",
       "<g class=\"edge\" id=\"edge1\"><title>2--1</title>\n",
       "<path d=\"M41.5703,-74.8345C53.9798,-62.7697 71.7306,-45.5119 84.2043,-33.3847\" fill=\"none\" stroke=\"black\"/>\n",
       "</g>\n",
       "<!-- 3&#45;&#45;1 -->\n",
       "<g class=\"edge\" id=\"edge2\"><title>3--1</title>\n",
       "<path d=\"M99,-71.6966C99,-60.8463 99,-46.9167 99,-36.1043\" fill=\"none\" stroke=\"black\"/>\n",
       "</g>\n",
       "<!-- 5&#45;&#45;1 -->\n",
       "<g class=\"edge\" id=\"edge4\"><title>5--1</title>\n",
       "<path d=\"M156.43,-74.8345C144.02,-62.7697 126.269,-45.5119 113.796,-33.3847\" fill=\"none\" stroke=\"black\"/>\n",
       "</g>\n",
       "</g>\n",
       "</svg>"
      ],
      "text/plain": [
       "<IPython.core.display.SVG object>"
      ]
     },
     "metadata": {},
     "output_type": "display_data"
    },
    {
     "data": {
      "text/plain": [
       "Relación binaria"
      ]
     },
     "execution_count": 43,
     "metadata": {},
     "output_type": "execute_result"
    }
   ],
   "source": [
    "r.hasse()"
   ]
  },
  {
   "cell_type": "code",
   "execution_count": 44,
   "metadata": {
    "collapsed": false
   },
   "outputs": [
    {
     "data": {
      "text/plain": [
       "True"
      ]
     },
     "execution_count": 44,
     "metadata": {},
     "output_type": "execute_result"
    }
   ],
   "source": [
    "r.es_orden()"
   ]
  },
  {
   "cell_type": "code",
   "execution_count": 45,
   "metadata": {
    "collapsed": false
   },
   "outputs": [
    {
     "data": {
      "text/plain": [
       "False"
      ]
     },
     "execution_count": 45,
     "metadata": {},
     "output_type": "execute_result"
    }
   ],
   "source": [
    "r.es_orden_total()"
   ]
  },
  {
   "cell_type": "code",
   "execution_count": 46,
   "metadata": {
    "collapsed": false
   },
   "outputs": [
    {
     "data": {
      "text/plain": [
       "True"
      ]
     },
     "execution_count": 46,
     "metadata": {},
     "output_type": "execute_result"
    }
   ],
   "source": [
    "r.es_reticulo()"
   ]
  },
  {
   "cell_type": "code",
   "execution_count": 47,
   "metadata": {
    "collapsed": false
   },
   "outputs": [
    {
     "data": {
      "text/plain": [
       "False"
      ]
     },
     "execution_count": 47,
     "metadata": {},
     "output_type": "execute_result"
    }
   ],
   "source": [
    "r.es_distributivo()"
   ]
  }
 ],
 "metadata": {
  "kernelspec": {
   "display_name": "Python 3",
   "language": "python",
   "name": "python3"
  },
  "language_info": {
   "codemirror_mode": {
    "name": "ipython",
    "version": 3
   },
   "file_extension": ".py",
   "mimetype": "text/x-python",
   "name": "python",
   "nbconvert_exporter": "python",
   "pygments_lexer": "ipython3",
   "version": "3.5.1"
  }
 },
 "nbformat": 4,
 "nbformat_minor": 0
}
